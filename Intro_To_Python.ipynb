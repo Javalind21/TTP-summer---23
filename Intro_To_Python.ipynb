{
  "nbformat": 4,
  "nbformat_minor": 0,
  "metadata": {
    "colab": {
      "provenance": [],
      "collapsed_sections": [
        "qMqXAc7tIlUc",
        "yo5n3UAhIkB1",
        "irPJnWl-alWt",
        "B3xsMSWEalpd",
        "5CHpnXdyt_uZ",
        "Ol7YVidww2Mn",
        "l707cuyV07vG",
        "OUakNh2s08Ee",
        "4_CdksccU2oI",
        "jDHGUdVHU27M",
        "OkFVol-fXq8H"
      ],
      "toc_visible": true,
      "authorship_tag": "ABX9TyMmZzdo7wxRIL7rKHFEMYTn",
      "include_colab_link": true
    },
    "kernelspec": {
      "name": "python3",
      "display_name": "Python 3"
    },
    "language_info": {
      "name": "python"
    }
  },
  "cells": [
    {
      "cell_type": "markdown",
      "metadata": {
        "id": "view-in-github",
        "colab_type": "text"
      },
      "source": [
        "<a href=\"https://colab.research.google.com/github/Javalind21/TTP-summer---23/blob/main/Intro_To_Python.ipynb\" target=\"_parent\"><img src=\"https://colab.research.google.com/assets/colab-badge.svg\" alt=\"Open In Colab\"/></a>"
      ]
    },
    {
      "cell_type": "markdown",
      "source": [
        "#Pathon Basic"
      ],
      "metadata": {
        "id": "IqI2TjVaHc2d"
      }
    },
    {
      "cell_type": "markdown",
      "source": [
        "## String & and the print() function"
      ],
      "metadata": {
        "id": "qMqXAc7tIlUc"
      }
    },
    {
      "cell_type": "code",
      "source": [
        "print(\"Hello World\")\n",
        "# In this line I am using the print() statement or method to print \"Hi there\" to the user"
      ],
      "metadata": {
        "colab": {
          "base_uri": "https://localhost:8080/"
        },
        "id": "JdEcYNtLIkYv",
        "outputId": "7e8ab0d3-269e-450e-9a3d-4bd34ecc01eb"
      },
      "execution_count": null,
      "outputs": [
        {
          "output_type": "stream",
          "name": "stdout",
          "text": [
            "Hello World\n"
          ]
        }
      ]
    },
    {
      "cell_type": "code",
      "source": [
        "print(\" There are two types of slashes: \\\\ and \\ \")\n",
        "#In this line I am using the print() function but due to backslashes being a command only the second backslash is printed from \\\\"
      ],
      "metadata": {
        "colab": {
          "base_uri": "https://localhost:8080/"
        },
        "id": "S6h9Cq7VIkVH",
        "outputId": "4af2fe96-ce50-4a54-a5e4-c1e3e4fb5fad"
      },
      "execution_count": null,
      "outputs": [
        {
          "output_type": "stream",
          "name": "stdout",
          "text": [
            " There are two types of slashes: \\ and \\ \n"
          ]
        }
      ]
    },
    {
      "cell_type": "code",
      "source": [
        "print (\"\"\"\n",
        "        This is a tab line\n",
        "This is a regular line\n",
        "\"\"\")\n",
        "#This line uses the print function() which shows users the difference between a tabbed line and a normal line one key note is the tripe quotes."
      ],
      "metadata": {
        "colab": {
          "base_uri": "https://localhost:8080/"
        },
        "id": "kvkBfYdJIkKb",
        "outputId": "9afab3fe-c1f0-4f85-8eee-46ec17205f56"
      },
      "execution_count": null,
      "outputs": [
        {
          "output_type": "stream",
          "name": "stdout",
          "text": [
            "\n",
            "        This is a tab line\n",
            "This is a regular line\n",
            "\n"
          ]
        }
      ]
    },
    {
      "cell_type": "code",
      "source": [
        "print(\"\\n\\tThis is a tabbed line\\nThis is a regular line\")\n",
        "#In this line we are using the print function now we are using the backslash commands to get the same results as the line above showing how useful it is and easy compared to the latter"
      ],
      "metadata": {
        "colab": {
          "base_uri": "https://localhost:8080/"
        },
        "id": "yFJo7IXbIkHk",
        "outputId": "dd18bf56-b4f8-405c-ee6d-93c092c20634"
      },
      "execution_count": null,
      "outputs": [
        {
          "output_type": "stream",
          "name": "stdout",
          "text": [
            "\n",
            "\tThis is a tabbed line\n",
            "This is a regular line\n"
          ]
        }
      ]
    },
    {
      "cell_type": "code",
      "source": [
        "print(\"First name \" + \"Last Name \")\n",
        "#In this line we are using the print() function now we are using concatanation which is the plus sybmol to combine both strings first name and last we need to space the ending quotation to space both strings"
      ],
      "metadata": {
        "colab": {
          "base_uri": "https://localhost:8080/"
        },
        "id": "htrcD3dKIkEs",
        "outputId": "cfb3ce2a-20fc-402c-8649-62af9bff40ef"
      },
      "execution_count": null,
      "outputs": [
        {
          "output_type": "stream",
          "name": "stdout",
          "text": [
            "First name Last Name \n"
          ]
        }
      ]
    },
    {
      "cell_type": "markdown",
      "source": [
        "##Variables"
      ],
      "metadata": {
        "id": "yo5n3UAhIkB1"
      }
    },
    {
      "cell_type": "code",
      "source": [
        "dogs = 3\n",
        "cats = \" Many Fluffy cats \"\n",
        "#In this line we start using variable an name that will hold a int - whole number, float - deceimal and negetive number, character - one letter, and string - a combination a muiltple character together"
      ],
      "metadata": {
        "id": "6Fc2E3nrIj-9"
      },
      "execution_count": null,
      "outputs": []
    },
    {
      "cell_type": "code",
      "source": [
        "dogs\n",
        "#This line of code will display the value held in dogs onto the screen for the user,which is 3"
      ],
      "metadata": {
        "colab": {
          "base_uri": "https://localhost:8080/"
        },
        "id": "fDCeM9ejIj8Z",
        "outputId": "97d3083c-aa0d-402a-a5bb-4ee116ccc07b"
      },
      "execution_count": null,
      "outputs": [
        {
          "output_type": "execute_result",
          "data": {
            "text/plain": [
              "3"
            ]
          },
          "metadata": {},
          "execution_count": 99
        }
      ]
    },
    {
      "cell_type": "code",
      "source": [
        "cats\n",
        "#This line of code will display the value held in dogs onto the screen for the user,which is Many Fluffy cats"
      ],
      "metadata": {
        "colab": {
          "base_uri": "https://localhost:8080/",
          "height": 378
        },
        "id": "-xyOPTnhIj5v",
        "outputId": "da8c98c0-5e59-41bf-caae-e47161ad4ee8"
      },
      "execution_count": null,
      "outputs": [
        {
          "output_type": "execute_result",
          "data": {
            "text/plain": [
              "' Many Fluffy cats '"
            ],
            "application/vnd.google.colaboratory.intrinsic+json": {
              "type": "string"
            }
          },
          "metadata": {},
          "execution_count": 100
        }
      ]
    },
    {
      "cell_type": "code",
      "source": [
        "type(dogs)\n",
        "#This line of code we used the type fuction which tells the user what type of data is being held int,float,char,and string"
      ],
      "metadata": {
        "colab": {
          "base_uri": "https://localhost:8080/"
        },
        "id": "fC-VgluiIj3K",
        "outputId": "138d1873-c0ce-4f01-edc8-ade4b499a0c0"
      },
      "execution_count": null,
      "outputs": [
        {
          "output_type": "execute_result",
          "data": {
            "text/plain": [
              "int"
            ]
          },
          "metadata": {},
          "execution_count": 101
        }
      ]
    },
    {
      "cell_type": "code",
      "source": [
        "type(cats)\n",
        "#This line of code we used the type fuction which tells the user what type of data is being held int,float,char,and string"
      ],
      "metadata": {
        "colab": {
          "base_uri": "https://localhost:8080/"
        },
        "id": "AzExqm2bIjzg",
        "outputId": "73f1772d-9e08-4a40-e4d3-c745166abb1c"
      },
      "execution_count": null,
      "outputs": [
        {
          "output_type": "execute_result",
          "data": {
            "text/plain": [
              "str"
            ]
          },
          "metadata": {},
          "execution_count": 102
        }
      ]
    },
    {
      "cell_type": "code",
      "source": [
        "print(dogs)\n",
        "#In this line we are using the print function to print the value held in dogs, which is 3"
      ],
      "metadata": {
        "colab": {
          "base_uri": "https://localhost:8080/"
        },
        "id": "rwNGMr9WIjwZ",
        "outputId": "9c1ce477-c157-4c86-e34d-fdb3d8f2a9cf"
      },
      "execution_count": null,
      "outputs": [
        {
          "output_type": "stream",
          "name": "stdout",
          "text": [
            "3\n"
          ]
        }
      ]
    },
    {
      "cell_type": "code",
      "source": [
        "hi = \"Hello \"\n",
        "name = \"John \"\n",
        "print(hi + name)\n",
        "#In these lines of code we are making two variables that will are holding two strings with the print fuction and concatenation we can combine both variables with the plus sign +"
      ],
      "metadata": {
        "colab": {
          "base_uri": "https://localhost:8080/"
        },
        "id": "UWFaTcRLMW-L",
        "outputId": "d287ce0c-952f-40b4-d04b-70ee3f143da3"
      },
      "execution_count": null,
      "outputs": [
        {
          "output_type": "stream",
          "name": "stdout",
          "text": [
            "Hello John \n"
          ]
        }
      ]
    },
    {
      "cell_type": "code",
      "source": [
        "more_dogs = 5\n",
        "\n",
        "print(dogs + more_dogs )\n",
        "#In these line of code we are making a new vaiable that will hold an int now with concatenation using two interger the print function will add the variables together and show the result of the math onto the screen"
      ],
      "metadata": {
        "colab": {
          "base_uri": "https://localhost:8080/"
        },
        "id": "QxeyX0XJMXLc",
        "outputId": "b70c395a-1941-4151-8e56-6cb03b03c3ff"
      },
      "execution_count": null,
      "outputs": [
        {
          "output_type": "stream",
          "name": "stdout",
          "text": [
            "8\n"
          ]
        }
      ]
    },
    {
      "cell_type": "code",
      "source": [
        "price = 19.99\n",
        "amount = 3\n",
        "#In these line of code we are making two variable one have a float data tyoe another having a int data type"
      ],
      "metadata": {
        "id": "5_vEUK0UMXTP"
      },
      "execution_count": null,
      "outputs": []
    },
    {
      "cell_type": "code",
      "source": [
        "print(price * amount)\n",
        "#In this line we are using the print function which with the float and int data type will muiltple the number and show the result of the math on to the screen. Due to one variable have float and the other having int the result will be a float"
      ],
      "metadata": {
        "colab": {
          "base_uri": "https://localhost:8080/"
        },
        "id": "aGJHo1mrMXaU",
        "outputId": "bc424b33-fad5-4930-985f-2b41c8cd7142"
      },
      "execution_count": null,
      "outputs": [
        {
          "output_type": "stream",
          "name": "stdout",
          "text": [
            "59.97\n"
          ]
        }
      ]
    },
    {
      "cell_type": "code",
      "source": [
        "# Variable reassignment\n",
        "dogs = \"New Value\"\n",
        "\n",
        "print(dogs)\n",
        "#In these lines of code we are providing a new data for the variable dogs to hole bfore it held 3 now it holds \"New Value\" when you use the print function the new value will show on screen for the user"
      ],
      "metadata": {
        "colab": {
          "base_uri": "https://localhost:8080/"
        },
        "id": "KAC7_zFMMXjI",
        "outputId": "ae982228-225a-42f6-e0f5-4cfd9c757df8"
      },
      "execution_count": null,
      "outputs": [
        {
          "output_type": "stream",
          "name": "stdout",
          "text": [
            "New Value\n"
          ]
        }
      ]
    },
    {
      "cell_type": "code",
      "source": [
        "cats, dogs, rabbits = 2, 5, \"cute\"\n",
        "\n",
        "print(dogs)\n",
        "#In these lines of code we created three variables using one line cats, dogs, and rabbits are all variables that hold the data in the order they are in, so cats holds 2 dogs hold 5 and rabbits holds \"cute\""
      ],
      "metadata": {
        "colab": {
          "base_uri": "https://localhost:8080/"
        },
        "id": "BZinEJ96NVSc",
        "outputId": "a37a2800-e930-465f-b2fd-6a28b3c1e0c7"
      },
      "execution_count": null,
      "outputs": [
        {
          "output_type": "stream",
          "name": "stdout",
          "text": [
            "5\n"
          ]
        }
      ]
    },
    {
      "cell_type": "markdown",
      "source": [
        "## More Strings"
      ],
      "metadata": {
        "id": "Z7bj5iiFMXmx"
      }
    },
    {
      "cell_type": "markdown",
      "source": [
        "###Indexing"
      ],
      "metadata": {
        "id": "imz9J8dRIh_J"
      }
    },
    {
      "cell_type": "code",
      "source": [
        "greeting = \"Hello World!\"\n",
        "#In this line of code we are making a variable that holds the string data type \"Hello World!\""
      ],
      "metadata": {
        "id": "3kq_pmkDNvD7"
      },
      "execution_count": null,
      "outputs": []
    },
    {
      "cell_type": "code",
      "source": [
        "greeting\n",
        "#In this line of code the variable is being called and the data it is holding will be shown to the user"
      ],
      "metadata": {
        "colab": {
          "base_uri": "https://localhost:8080/",
          "height": 276
        },
        "id": "HBfvDOXgNvIS",
        "outputId": "1fe77231-8591-4f91-81d2-a664749ecd21"
      },
      "execution_count": null,
      "outputs": [
        {
          "output_type": "execute_result",
          "data": {
            "text/plain": [
              "'Hello World!'"
            ],
            "application/vnd.google.colaboratory.intrinsic+json": {
              "type": "string"
            }
          },
          "metadata": {},
          "execution_count": 111
        }
      ]
    },
    {
      "cell_type": "code",
      "source": [
        "print(greeting[4])\n",
        "#In this line of code we are using the print() fuction instead of printing the whole string we want the character at the  4th position using index. Index is the place the character is in if you start from zero and go to 4. We want to know what is at the 4th index using the [] we can put a number in between and ask for any index in this case 4 getting o."
      ],
      "metadata": {
        "colab": {
          "base_uri": "https://localhost:8080/"
        },
        "id": "EycmNZ5RNvML",
        "outputId": "832078b8-4ee3-46b2-9dd8-d22072874578"
      },
      "execution_count": null,
      "outputs": [
        {
          "output_type": "stream",
          "name": "stdout",
          "text": [
            "o\n"
          ]
        }
      ]
    },
    {
      "cell_type": "code",
      "source": [
        "# The 3rd, the 5th, the 19th"
      ],
      "metadata": {
        "id": "jIwM7Dc9NvQ5"
      },
      "execution_count": null,
      "outputs": []
    },
    {
      "cell_type": "code",
      "source": [
        "sentence = \"My name is Javaughn Linsay and I work here\"\n",
        "#In this line of code we are creating a variable holding a string to use for indexing"
      ],
      "metadata": {
        "id": "JgVmlpZANvUy"
      },
      "execution_count": null,
      "outputs": []
    },
    {
      "cell_type": "code",
      "source": [
        "print(sentence[3])\n",
        "print(sentence[5])\n",
        "print(sentence[19])\n",
        "#In these lines of code we are ask for the characcter at index 3, 5, and 19"
      ],
      "metadata": {
        "colab": {
          "base_uri": "https://localhost:8080/"
        },
        "id": "qaT8hi8aOQRH",
        "outputId": "3927be2f-af0a-43b1-91d8-3b1b73be81dd"
      },
      "execution_count": null,
      "outputs": [
        {
          "output_type": "stream",
          "name": "stdout",
          "text": [
            "n\n",
            "m\n",
            " \n"
          ]
        }
      ]
    },
    {
      "cell_type": "code",
      "source": [
        "len(greeting)\n",
        "#In this line we are using the len() function to get the length of the variable contents"
      ],
      "metadata": {
        "colab": {
          "base_uri": "https://localhost:8080/"
        },
        "id": "L1oLXB_pOQTc",
        "outputId": "d195dec9-ae04-400e-a505-5b2103878922"
      },
      "execution_count": null,
      "outputs": [
        {
          "output_type": "execute_result",
          "data": {
            "text/plain": [
              "12"
            ]
          },
          "metadata": {},
          "execution_count": 116
        }
      ]
    },
    {
      "cell_type": "code",
      "source": [
        "greeting[11]\n",
        "#In this line we can get the last character of the variable because we ask for the length before so to get the last character you need to go one under"
      ],
      "metadata": {
        "colab": {
          "base_uri": "https://localhost:8080/",
          "height": 72
        },
        "id": "ZDG1Hi7KOQVy",
        "outputId": "f0bb1bcb-a1e5-4e1a-f19b-d27ee6bd50d0"
      },
      "execution_count": null,
      "outputs": [
        {
          "output_type": "execute_result",
          "data": {
            "text/plain": [
              "'!'"
            ],
            "application/vnd.google.colaboratory.intrinsic+json": {
              "type": "string"
            }
          },
          "metadata": {},
          "execution_count": 117
        }
      ]
    },
    {
      "cell_type": "code",
      "source": [
        "greeting[-1]\n",
        "#In this line we get the last index but instead of having to ask for the length forst we put -1 between the brackets because no matter the length -1 we always hold the last character because negeatives go from right to left"
      ],
      "metadata": {
        "colab": {
          "base_uri": "https://localhost:8080/",
          "height": 72
        },
        "id": "o3Y8EhjAOQYJ",
        "outputId": "dca2c2c0-9b12-412b-e278-7cfeccad96b0"
      },
      "execution_count": null,
      "outputs": [
        {
          "output_type": "execute_result",
          "data": {
            "text/plain": [
              "'!'"
            ],
            "application/vnd.google.colaboratory.intrinsic+json": {
              "type": "string"
            }
          },
          "metadata": {},
          "execution_count": 118
        }
      ]
    },
    {
      "cell_type": "markdown",
      "source": [
        "### String Formating"
      ],
      "metadata": {
        "id": "gzTAz3PxOQhA"
      }
    },
    {
      "cell_type": "code",
      "source": [
        "price = 59.99\n",
        "#In this we provide a new float data type for price to hold"
      ],
      "metadata": {
        "id": "BkcyOg3vPh5k"
      },
      "execution_count": null,
      "outputs": []
    },
    {
      "cell_type": "code",
      "source": [
        "message = \"Your product cost \" + str(price) + \" dollars\"\n",
        "#In this line we make a new variable that will hold price so we do not need to call price all the time and when price change so will message but do to price being float to would cause an error unless you use str() function to make it a string"
      ],
      "metadata": {
        "id": "2NnMYNmCPh8H"
      },
      "execution_count": null,
      "outputs": []
    },
    {
      "cell_type": "code",
      "source": [
        "message\n",
        "#In this line of code we see that price is now a string instead of a float which can be shown to the user if it was a string"
      ],
      "metadata": {
        "colab": {
          "base_uri": "https://localhost:8080/",
          "height": 616
        },
        "id": "ROfEyd_VPh-v",
        "outputId": "21c911b4-114d-4baa-98b0-9baf4f1acdf9"
      },
      "execution_count": null,
      "outputs": [
        {
          "output_type": "execute_result",
          "data": {
            "text/plain": [
              "'Your product cost 59.99 dollars'"
            ],
            "application/vnd.google.colaboratory.intrinsic+json": {
              "type": "string"
            }
          },
          "metadata": {},
          "execution_count": 121
        }
      ]
    },
    {
      "cell_type": "code",
      "source": [
        "msg = \"The product cost {} dollars\" .format(price)\n",
        "#In the line of code we make a variable that will shown the price as a string but instead of str() function we use .format() function which will but a placeholder for price as a string to replace the curly brackets with price"
      ],
      "metadata": {
        "id": "LhIg5hkjPiBG"
      },
      "execution_count": null,
      "outputs": []
    },
    {
      "cell_type": "code",
      "source": [
        "msg\n",
        "#In this line of code we show the user the string held in the variable msg and see that now the price is a string and the curly brackets are gone"
      ],
      "metadata": {
        "colab": {
          "base_uri": "https://localhost:8080/",
          "height": 599
        },
        "id": "v0fSAoiwPiDr",
        "outputId": "83264718-7bbe-431e-942a-1fd27ca0583c"
      },
      "execution_count": null,
      "outputs": [
        {
          "output_type": "execute_result",
          "data": {
            "text/plain": [
              "'The product cost 59.99 dollars'"
            ],
            "application/vnd.google.colaboratory.intrinsic+json": {
              "type": "string"
            }
          },
          "metadata": {},
          "execution_count": 123
        }
      ]
    },
    {
      "cell_type": "code",
      "source": [
        "amount = 3\n",
        "total = amount * price\n",
        "#In these lines of code we make two variable and int data type and total whoch we muiltple price and amount the result from a float and int will be float making total hold a float data type"
      ],
      "metadata": {
        "id": "Azh1LcVCPiGS"
      },
      "execution_count": null,
      "outputs": []
    },
    {
      "cell_type": "code",
      "source": [
        "msg2 = \"For {} products at the price of {}, the total will be: {} \"\n",
        "#In this line of code we make a in variable have the curly brackets inside meaning we can use .format() function to put any float and interger data type inside"
      ],
      "metadata": {
        "id": "NolM5vTBPiIX"
      },
      "execution_count": null,
      "outputs": []
    },
    {
      "cell_type": "code",
      "source": [
        "print(msg2.format(amount,price,total))\n",
        "#In this line we ise the print() function and .format replacing the three curly brackets in msg2 with amount price and total in that order and shown it to the user"
      ],
      "metadata": {
        "colab": {
          "base_uri": "https://localhost:8080/"
        },
        "id": "kJbRz3K4Pk13",
        "outputId": "c9e7b56e-af37-4149-be70-6f7f89f3cbb3"
      },
      "execution_count": null,
      "outputs": [
        {
          "output_type": "stream",
          "name": "stdout",
          "text": [
            "For 3 products at the price of 59.99, the total will be: 179.97 \n"
          ]
        }
      ]
    },
    {
      "cell_type": "code",
      "source": [
        "msg3 = \"For {2} products at a price of {0} the total is {1}\"\n",
        "#In this line we make a in variable have the curly brackets inside meaning we can use .format() function to put any float and interger data type inside, but now with numbers inside the brackets the 2 variable will be used then the first and finally the last."
      ],
      "metadata": {
        "id": "GLkyobJFR_FE"
      },
      "execution_count": null,
      "outputs": []
    },
    {
      "cell_type": "code",
      "source": [
        "print(msg3.format(price,total,amount))\n",
        "#In this line we ise the print() function and .format replacing the three curly brackets in msg3 with amount price and total in that order and shown it to the user, but amount will be replace the first bracket then total and then price. Cause of the number used in msg3 defining what variable in the order will replace the brackets"
      ],
      "metadata": {
        "colab": {
          "base_uri": "https://localhost:8080/"
        },
        "id": "_om3F0-fSJky",
        "outputId": "30f12a9f-5e88-451d-cbf8-2ea0e60a3e5b"
      },
      "execution_count": null,
      "outputs": [
        {
          "output_type": "stream",
          "name": "stdout",
          "text": [
            "For 3 products at a price of 59.99 the total is 179.97\n"
          ]
        }
      ]
    },
    {
      "cell_type": "markdown",
      "source": [
        "#### The 'f-String ' Method"
      ],
      "metadata": {
        "id": "xzDxnUDHSJn1"
      }
    },
    {
      "cell_type": "code",
      "source": [
        "price = 19.99\n",
        "items = 3\n",
        "#In these line of code we replace of variable and make a new one the replace variable will hold a new float and the new variable holds an interger"
      ],
      "metadata": {
        "id": "Jmj3ZnqYSJqN"
      },
      "execution_count": null,
      "outputs": []
    },
    {
      "cell_type": "code",
      "source": [
        "msg = f\"This individual product is {price}\"\n",
        "#In this line change a string variable to now have the new price in which cause an error because it is float and the variabel contain needs to be string but using f-string the price will change to a string for the variable, which makes lines easier for coders"
      ],
      "metadata": {
        "id": "lUGy7KQYTFHK"
      },
      "execution_count": null,
      "outputs": []
    },
    {
      "cell_type": "code",
      "source": [
        "msg\n",
        "#In this line of code we show the data being held in msg and see the price was a float is now a string"
      ],
      "metadata": {
        "colab": {
          "base_uri": "https://localhost:8080/",
          "height": 633
        },
        "id": "AzCC51V8TFJv",
        "outputId": "b45cf882-217a-430f-c803-59dce7a3e71f"
      },
      "execution_count": null,
      "outputs": [
        {
          "output_type": "execute_result",
          "data": {
            "text/plain": [
              "'This individual product is 19.99'"
            ],
            "application/vnd.google.colaboratory.intrinsic+json": {
              "type": "string"
            }
          },
          "metadata": {},
          "execution_count": 131
        }
      ]
    },
    {
      "cell_type": "code",
      "source": [
        "msg2 = f\" The total for your purchase is {price * items} \"\n",
        "#In this line of code we replace the contain of a variable now using f-srting to convert the product of price and item and put that as astring to use for the variable"
      ],
      "metadata": {
        "id": "dDFYER7mTFMV"
      },
      "execution_count": null,
      "outputs": []
    },
    {
      "cell_type": "code",
      "source": [
        "msg2\n",
        "#In this line of code we see that the product of price and items was coverted into a string and can be shown to the user when the variable is called"
      ],
      "metadata": {
        "id": "4uenBSb8TFOt",
        "colab": {
          "base_uri": "https://localhost:8080/",
          "height": 718
        },
        "outputId": "70f151dd-ebaf-40c5-a2e2-1e8fddb1d5e6"
      },
      "execution_count": null,
      "outputs": [
        {
          "output_type": "execute_result",
          "data": {
            "text/plain": [
              "' The total for your purchase is 59.97 '"
            ],
            "application/vnd.google.colaboratory.intrinsic+json": {
              "type": "string"
            }
          },
          "metadata": {},
          "execution_count": 133
        }
      ]
    },
    {
      "cell_type": "markdown",
      "source": [
        "#### String Function"
      ],
      "metadata": {
        "id": "HdlV81oHTFSE"
      }
    },
    {
      "cell_type": "code",
      "source": [
        "dir(msg)\n",
        "#This function lets us see the directory or library of functions we can use for strings"
      ],
      "metadata": {
        "colab": {
          "base_uri": "https://localhost:8080/"
        },
        "id": "TIz0Sc-JI9f_",
        "outputId": "bbed34c7-7866-4e1a-e1d8-111acaf9352b"
      },
      "execution_count": null,
      "outputs": [
        {
          "output_type": "execute_result",
          "data": {
            "text/plain": [
              "['__add__',\n",
              " '__class__',\n",
              " '__contains__',\n",
              " '__delattr__',\n",
              " '__dir__',\n",
              " '__doc__',\n",
              " '__eq__',\n",
              " '__format__',\n",
              " '__ge__',\n",
              " '__getattribute__',\n",
              " '__getitem__',\n",
              " '__getnewargs__',\n",
              " '__gt__',\n",
              " '__hash__',\n",
              " '__init__',\n",
              " '__init_subclass__',\n",
              " '__iter__',\n",
              " '__le__',\n",
              " '__len__',\n",
              " '__lt__',\n",
              " '__mod__',\n",
              " '__mul__',\n",
              " '__ne__',\n",
              " '__new__',\n",
              " '__reduce__',\n",
              " '__reduce_ex__',\n",
              " '__repr__',\n",
              " '__rmod__',\n",
              " '__rmul__',\n",
              " '__setattr__',\n",
              " '__sizeof__',\n",
              " '__str__',\n",
              " '__subclasshook__',\n",
              " 'capitalize',\n",
              " 'casefold',\n",
              " 'center',\n",
              " 'count',\n",
              " 'encode',\n",
              " 'endswith',\n",
              " 'expandtabs',\n",
              " 'find',\n",
              " 'format',\n",
              " 'format_map',\n",
              " 'index',\n",
              " 'isalnum',\n",
              " 'isalpha',\n",
              " 'isascii',\n",
              " 'isdecimal',\n",
              " 'isdigit',\n",
              " 'isidentifier',\n",
              " 'islower',\n",
              " 'isnumeric',\n",
              " 'isprintable',\n",
              " 'isspace',\n",
              " 'istitle',\n",
              " 'isupper',\n",
              " 'join',\n",
              " 'ljust',\n",
              " 'lower',\n",
              " 'lstrip',\n",
              " 'maketrans',\n",
              " 'partition',\n",
              " 'removeprefix',\n",
              " 'removesuffix',\n",
              " 'replace',\n",
              " 'rfind',\n",
              " 'rindex',\n",
              " 'rjust',\n",
              " 'rpartition',\n",
              " 'rsplit',\n",
              " 'rstrip',\n",
              " 'split',\n",
              " 'splitlines',\n",
              " 'startswith',\n",
              " 'strip',\n",
              " 'swapcase',\n",
              " 'title',\n",
              " 'translate',\n",
              " 'upper',\n",
              " 'zfill']"
            ]
          },
          "metadata": {},
          "execution_count": 134
        }
      ]
    },
    {
      "cell_type": "code",
      "source": [
        "msg\n",
        "#This variable call allows the user to see the string contained in the variable"
      ],
      "metadata": {
        "colab": {
          "base_uri": "https://localhost:8080/",
          "height": 633
        },
        "id": "ufwwwxzjI9iy",
        "outputId": "c65c9e8c-a8a3-48bb-ce27-d4059f9c461b"
      },
      "execution_count": null,
      "outputs": [
        {
          "output_type": "execute_result",
          "data": {
            "text/plain": [
              "'This individual product is 19.99'"
            ],
            "application/vnd.google.colaboratory.intrinsic+json": {
              "type": "string"
            }
          },
          "metadata": {},
          "execution_count": 135
        }
      ]
    },
    {
      "cell_type": "code",
      "source": [
        "msg = \"Hello my name is Bob\"\n",
        "#We are replacing the content of our variable msg with Hello my name is Bob which is a string"
      ],
      "metadata": {
        "id": "VpCxLx2AI9lY"
      },
      "execution_count": null,
      "outputs": []
    },
    {
      "cell_type": "code",
      "source": [
        "words = msg.split(\" \")\n",
        "#We are calling the split() function that will break the string apart for each space between them. Make sure you know that the split() function turn strings into a list or array"
      ],
      "metadata": {
        "id": "BPWFs6xYI9oR"
      },
      "execution_count": null,
      "outputs": []
    },
    {
      "cell_type": "code",
      "source": [
        "print(words)\n",
        "#After using the split() function we then use the print() function to see the our old string was turn into a list"
      ],
      "metadata": {
        "colab": {
          "base_uri": "https://localhost:8080/"
        },
        "id": "ohMmW2MkI9rI",
        "outputId": "991385ec-dfc3-4ae4-f77a-13de2d3dde97"
      },
      "execution_count": null,
      "outputs": [
        {
          "output_type": "stream",
          "name": "stdout",
          "text": [
            "['Hello', 'my', 'name', 'is', 'Bob']\n"
          ]
        }
      ]
    },
    {
      "cell_type": "code",
      "source": [
        "elements = msg.split(\"e\")\n",
        "#We are using the split() function again to break up the string where an \"e\" is in the string"
      ],
      "metadata": {
        "id": "CuXXHlORI9t-"
      },
      "execution_count": null,
      "outputs": []
    },
    {
      "cell_type": "code",
      "source": [
        "print(elements)\n",
        "#After using the split() function we then use the print() function to see the our old string was turn into a list. Now all the \"e\" are gone"
      ],
      "metadata": {
        "colab": {
          "base_uri": "https://localhost:8080/"
        },
        "id": "Um6XhIL-I9wW",
        "outputId": "7d0a1255-4ec4-426f-fd8e-5add3b5d0c58"
      },
      "execution_count": null,
      "outputs": [
        {
          "output_type": "stream",
          "name": "stdout",
          "text": [
            "['H', 'llo my nam', ' is Bob']\n"
          ]
        }
      ]
    },
    {
      "cell_type": "code",
      "source": [
        "print(msg.upper())\n",
        "#We use the upper() function to turn all the characters in the msg string uppercased"
      ],
      "metadata": {
        "colab": {
          "base_uri": "https://localhost:8080/"
        },
        "id": "KIXRRbwCJDwM",
        "outputId": "8785f359-6237-4d71-feee-c446edef1b3f"
      },
      "execution_count": null,
      "outputs": [
        {
          "output_type": "stream",
          "name": "stdout",
          "text": [
            "HELLO MY NAME IS BOB\n"
          ]
        }
      ]
    },
    {
      "cell_type": "code",
      "source": [
        "print(msg.lower())\n",
        "#We use the upper() function to turn all the characters in the msg string lowercased"
      ],
      "metadata": {
        "colab": {
          "base_uri": "https://localhost:8080/"
        },
        "id": "-mdoC2RsJDyz",
        "outputId": "6132021d-32c6-4c36-e1b0-4d638fbf8d48"
      },
      "execution_count": null,
      "outputs": [
        {
          "output_type": "stream",
          "name": "stdout",
          "text": [
            "hello my name is bob\n"
          ]
        }
      ]
    },
    {
      "cell_type": "markdown",
      "source": [
        "## The Input Method"
      ],
      "metadata": {
        "id": "FvdJEwGXJD62"
      }
    },
    {
      "cell_type": "code",
      "source": [
        "data = input(\"What is your name: \")\n",
        "print(f\"Hello {data}, hope your day is great! \")\n",
        "#We are now using inputs which are given from the user. THe program will stop until an answer is given then the answer from the user will be stored in our variable data. The data will then be printed by the print() function"
      ],
      "metadata": {
        "colab": {
          "base_uri": "https://localhost:8080/"
        },
        "id": "eUvM-MkUJD9d",
        "outputId": "86a8b46c-0348-4ba9-e055-92aafb94b746"
      },
      "execution_count": null,
      "outputs": [
        {
          "output_type": "stream",
          "name": "stdout",
          "text": [
            "What is your name: ben\n",
            "Hello ben, hope your day is great! \n"
          ]
        }
      ]
    },
    {
      "cell_type": "code",
      "source": [
        "num = int(input(\"Enter a number: \"))\n",
        "print(num)\n",
        "#We are using the input variable"
      ],
      "metadata": {
        "id": "uuAz7TXnSJwL",
        "colab": {
          "base_uri": "https://localhost:8080/"
        },
        "outputId": "6bd62c1a-19ae-42b4-b907-0e06ce6252fd"
      },
      "execution_count": null,
      "outputs": [
        {
          "output_type": "stream",
          "name": "stdout",
          "text": [
            "Enter a number: 12\n",
            "12\n"
          ]
        }
      ]
    },
    {
      "cell_type": "code",
      "source": [
        "type(num)"
      ],
      "metadata": {
        "id": "LGHjv0tJSJzC",
        "colab": {
          "base_uri": "https://localhost:8080/"
        },
        "outputId": "77a18d1b-2c13-47b7-cf7e-4b76b8c79019"
      },
      "execution_count": null,
      "outputs": [
        {
          "output_type": "execute_result",
          "data": {
            "text/plain": [
              "int"
            ]
          },
          "metadata": {},
          "execution_count": 145
        }
      ]
    },
    {
      "cell_type": "code",
      "source": [
        "name = input(\"What is your name: \")\n",
        "age = input(\"How old are you: \")\n",
        "address = input(\"Where do you live \")\n",
        "print(f\"Hello {name}. Plesure to meet you! You're {age} years old and you live in {address}. \")"
      ],
      "metadata": {
        "colab": {
          "base_uri": "https://localhost:8080/"
        },
        "id": "dCD9XPwYM3hB",
        "outputId": "897c5cf7-2b19-400f-aed1-db8b9806ce7b"
      },
      "execution_count": null,
      "outputs": [
        {
          "output_type": "stream",
          "name": "stdout",
          "text": [
            "What is your name: e\n",
            "How old are you: 19\n",
            "Where do you live 22\n",
            "Hello e. Plesure to meet you! You're 19 years old and you live in 22. \n"
          ]
        }
      ]
    },
    {
      "cell_type": "markdown",
      "source": [
        "##Numbers"
      ],
      "metadata": {
        "id": "rlRrycDvM3oj"
      }
    },
    {
      "cell_type": "code",
      "source": [
        "cats = 7\n",
        "money = -37.50\n",
        "x = 2+5j\n",
        "message = \"Hello Alice\""
      ],
      "metadata": {
        "id": "7LaflR7uM3rK"
      },
      "execution_count": null,
      "outputs": []
    },
    {
      "cell_type": "code",
      "source": [
        "print(type(money))\n",
        "print(type(money))\n",
        "print(type(x))\n",
        "print(type(message))"
      ],
      "metadata": {
        "id": "6QysM0BiM3tx",
        "colab": {
          "base_uri": "https://localhost:8080/"
        },
        "outputId": "8d06c76c-a3e0-4316-d775-0f261438e54d"
      },
      "execution_count": null,
      "outputs": [
        {
          "output_type": "stream",
          "name": "stdout",
          "text": [
            "<class 'float'>\n",
            "<class 'float'>\n",
            "<class 'complex'>\n",
            "<class 'str'>\n"
          ]
        }
      ]
    },
    {
      "cell_type": "code",
      "source": [
        "a = 6\n",
        "b = 2.5\n",
        "print ()"
      ],
      "metadata": {
        "id": "gPYFTeJeM3wY",
        "colab": {
          "base_uri": "https://localhost:8080/"
        },
        "outputId": "19edcbe9-37ff-4597-c8ed-58c1c1a8126d"
      },
      "execution_count": null,
      "outputs": [
        {
          "output_type": "stream",
          "name": "stdout",
          "text": [
            "\n"
          ]
        }
      ]
    },
    {
      "cell_type": "markdown",
      "source": [
        "###Conversion"
      ],
      "metadata": {
        "id": "rM2gj6mqM3zN"
      }
    },
    {
      "cell_type": "code",
      "source": [
        "value = 3.5\n",
        "print(value)\n",
        "conversion = int(value)\n",
        "print(conversion)"
      ],
      "metadata": {
        "id": "Bg8gVrwAM32H",
        "colab": {
          "base_uri": "https://localhost:8080/"
        },
        "outputId": "41e3eb6a-464d-4690-a440-d722285b8298"
      },
      "execution_count": null,
      "outputs": [
        {
          "output_type": "stream",
          "name": "stdout",
          "text": [
            "3.5\n",
            "3\n"
          ]
        }
      ]
    },
    {
      "cell_type": "code",
      "source": [
        "value = 78\n",
        "print(value)\n",
        "conversion = float(value)\n",
        "print(conversion)\n",
        "print(type(conversion))"
      ],
      "metadata": {
        "id": "I_ER4BwiM348",
        "colab": {
          "base_uri": "https://localhost:8080/"
        },
        "outputId": "bdf72220-860b-4d05-9786-eacf4f970805"
      },
      "execution_count": null,
      "outputs": [
        {
          "output_type": "stream",
          "name": "stdout",
          "text": [
            "78\n",
            "78.0\n",
            "<class 'float'>\n"
          ]
        }
      ]
    },
    {
      "cell_type": "code",
      "source": [
        "value = 38\n",
        "print(value)\n",
        "conversion = complex(value)\n",
        "print(conversion)\n",
        "print(type(conversion))"
      ],
      "metadata": {
        "id": "8i4e1mp7M37m",
        "colab": {
          "base_uri": "https://localhost:8080/"
        },
        "outputId": "c286029b-1e14-481e-f2c8-6b3fa90c3a74"
      },
      "execution_count": null,
      "outputs": [
        {
          "output_type": "stream",
          "name": "stdout",
          "text": [
            "38\n",
            "(38+0j)\n",
            "<class 'complex'>\n"
          ]
        }
      ]
    },
    {
      "cell_type": "code",
      "source": [
        "value = 28.4875\n",
        "print(value)\n",
        "conversion = str(value)\n",
        "print(conversion)\n",
        "print(type(conversion))"
      ],
      "metadata": {
        "id": "6f-SWYccM3_P",
        "colab": {
          "base_uri": "https://localhost:8080/"
        },
        "outputId": "6e726315-129d-43f2-ebce-eb6ea7ef7816"
      },
      "execution_count": null,
      "outputs": [
        {
          "output_type": "stream",
          "name": "stdout",
          "text": [
            "28.4875\n",
            "28.4875\n",
            "<class 'str'>\n"
          ]
        }
      ]
    },
    {
      "cell_type": "code",
      "source": [
        "data = input(\"Enter a value: \")\n",
        "print(int(data))\n",
        "print(float(data))\n",
        "print(complex(data))\n",
        "print(str(data))"
      ],
      "metadata": {
        "id": "rRkbKemXM4CW",
        "colab": {
          "base_uri": "https://localhost:8080/"
        },
        "outputId": "bdfe6b08-f27a-43d6-e234-d711999e9d8b"
      },
      "execution_count": null,
      "outputs": [
        {
          "output_type": "stream",
          "name": "stdout",
          "text": [
            "Enter a value: 2\n",
            "2\n",
            "2.0\n",
            "(2+0j)\n",
            "2\n"
          ]
        }
      ]
    },
    {
      "cell_type": "code",
      "source": [
        "pi = 3.14159\n",
        "print(int(pi))\n",
        "print(float(pi))\n",
        "print(complex(pi))\n",
        "print(str(pi))"
      ],
      "metadata": {
        "id": "Wrl3LvpuM4Ee",
        "colab": {
          "base_uri": "https://localhost:8080/"
        },
        "outputId": "d06c2865-98a0-40d3-c206-3aac449592c8"
      },
      "execution_count": null,
      "outputs": [
        {
          "output_type": "stream",
          "name": "stdout",
          "text": [
            "3\n",
            "3.14159\n",
            "(3.14159+0j)\n",
            "3.14159\n"
          ]
        }
      ]
    },
    {
      "cell_type": "markdown",
      "source": [
        "###Operations"
      ],
      "metadata": {
        "id": "aRvOdJVwM4J6"
      }
    },
    {
      "cell_type": "markdown",
      "source": [
        "####The \"Modulus Operation\""
      ],
      "metadata": {
        "id": "HopzTIy8M4NA"
      }
    },
    {
      "cell_type": "code",
      "source": [
        "print(259 / 4)"
      ],
      "metadata": {
        "id": "ZtBXTgtOM4Pq",
        "colab": {
          "base_uri": "https://localhost:8080/"
        },
        "outputId": "47a67658-0e81-492d-d61f-577f16ddff0a"
      },
      "execution_count": null,
      "outputs": [
        {
          "output_type": "stream",
          "name": "stdout",
          "text": [
            "64.75\n"
          ]
        }
      ]
    },
    {
      "cell_type": "code",
      "source": [
        "print(259 % 4)"
      ],
      "metadata": {
        "id": "87mCTTJ3M4Sg",
        "colab": {
          "base_uri": "https://localhost:8080/"
        },
        "outputId": "7186c230-7a33-4a1e-c22e-70aa4166ec26"
      },
      "execution_count": null,
      "outputs": [
        {
          "output_type": "stream",
          "name": "stdout",
          "text": [
            "3\n"
          ]
        }
      ]
    },
    {
      "cell_type": "markdown",
      "source": [
        "####The Power Operator"
      ],
      "metadata": {
        "id": "o78Ig2zDakcT"
      }
    },
    {
      "cell_type": "code",
      "source": [
        "print(9 ** 4)"
      ],
      "metadata": {
        "colab": {
          "base_uri": "https://localhost:8080/"
        },
        "id": "A_6ak7U8alMG",
        "outputId": "22fdf8a3-ec92-4bd5-ea01-0a1c9a4c20a5"
      },
      "execution_count": null,
      "outputs": [
        {
          "output_type": "stream",
          "name": "stdout",
          "text": [
            "6561\n"
          ]
        }
      ]
    },
    {
      "cell_type": "code",
      "source": [
        "2 ** 2"
      ],
      "metadata": {
        "colab": {
          "base_uri": "https://localhost:8080/"
        },
        "id": "33OuAhaMalO3",
        "outputId": "18adb76a-542e-4643-8d17-0942ab07aa62"
      },
      "execution_count": null,
      "outputs": [
        {
          "output_type": "execute_result",
          "data": {
            "text/plain": [
              "4"
            ]
          },
          "metadata": {},
          "execution_count": 159
        }
      ]
    },
    {
      "cell_type": "markdown",
      "source": [
        "####The Floor Operator"
      ],
      "metadata": {
        "id": "_eptjSv8alRe"
      }
    },
    {
      "cell_type": "code",
      "source": [
        "print(9//4)"
      ],
      "metadata": {
        "colab": {
          "base_uri": "https://localhost:8080/"
        },
        "id": "EQo6ozyPalUH",
        "outputId": "139c7a79-d8f0-42da-dfb7-73925c2cff9f"
      },
      "execution_count": null,
      "outputs": [
        {
          "output_type": "stream",
          "name": "stdout",
          "text": [
            "2\n"
          ]
        }
      ]
    },
    {
      "cell_type": "markdown",
      "source": [
        "#### Assignment Operator"
      ],
      "metadata": {
        "id": "irPJnWl-alWt"
      }
    },
    {
      "cell_type": "code",
      "source": [
        "x = 9\n"
      ],
      "metadata": {
        "id": "QadhWjuLalZU"
      },
      "execution_count": null,
      "outputs": []
    },
    {
      "cell_type": "code",
      "source": [
        "x+= 4\n",
        "print(x)"
      ],
      "metadata": {
        "colab": {
          "base_uri": "https://localhost:8080/"
        },
        "id": "LNZCqoKealb6",
        "outputId": "4545c70f-8329-46d6-e182-a393ad2b089f"
      },
      "execution_count": null,
      "outputs": [
        {
          "output_type": "stream",
          "name": "stdout",
          "text": [
            "13\n"
          ]
        }
      ]
    },
    {
      "cell_type": "code",
      "source": [
        "x-=4\n",
        "print(x)"
      ],
      "metadata": {
        "colab": {
          "base_uri": "https://localhost:8080/"
        },
        "id": "vd1NnycEaleh",
        "outputId": "ce22dc5c-27e3-460e-b8a6-1c5bf9e70865"
      },
      "execution_count": null,
      "outputs": [
        {
          "output_type": "stream",
          "name": "stdout",
          "text": [
            "9\n"
          ]
        }
      ]
    },
    {
      "cell_type": "code",
      "source": [
        "x*=4\n",
        "print(x)"
      ],
      "metadata": {
        "colab": {
          "base_uri": "https://localhost:8080/"
        },
        "id": "cYbhHwY4alhZ",
        "outputId": "5252bf8d-ed3d-4281-cdd5-ce54f2075e26"
      },
      "execution_count": null,
      "outputs": [
        {
          "output_type": "stream",
          "name": "stdout",
          "text": [
            "36\n"
          ]
        }
      ]
    },
    {
      "cell_type": "code",
      "source": [
        "x /= 4\n",
        "print(x)"
      ],
      "metadata": {
        "colab": {
          "base_uri": "https://localhost:8080/"
        },
        "id": "OuItKZ72alkA",
        "outputId": "ae168833-9558-4df9-f7ba-2fedf92d9f6c"
      },
      "execution_count": null,
      "outputs": [
        {
          "output_type": "stream",
          "name": "stdout",
          "text": [
            "9.0\n"
          ]
        }
      ]
    },
    {
      "cell_type": "code",
      "source": [
        "x = float(input(\"Enter the first number: \"))\n",
        "y = float(input(\"Enter second value: \"))\n",
        "print(float(x + y))\n",
        "print(float(x-y))\n",
        "print(float(x*y))\n",
        "print(float(x / y))"
      ],
      "metadata": {
        "colab": {
          "base_uri": "https://localhost:8080/"
        },
        "id": "kjZETGOLalnI",
        "outputId": "097403ed-375d-4f8a-8a21-7d8c09b6b976"
      },
      "execution_count": null,
      "outputs": [
        {
          "output_type": "stream",
          "name": "stdout",
          "text": [
            "Enter the first number: 2\n",
            "Enter second value: 3\n",
            "5.0\n",
            "-1.0\n",
            "6.0\n",
            "0.6666666666666666\n"
          ]
        }
      ]
    },
    {
      "cell_type": "markdown",
      "source": [
        "#### Boolean Operator"
      ],
      "metadata": {
        "id": "B3xsMSWEalpd"
      }
    },
    {
      "cell_type": "code",
      "source": [
        "is_day = True\n",
        "is_night = False\n",
        "print(is_day)\n",
        "print(is_night)"
      ],
      "metadata": {
        "colab": {
          "base_uri": "https://localhost:8080/"
        },
        "id": "9395EjNBt_sF",
        "outputId": "9405bc85-dd92-42e5-eb00-9c8cd056b565"
      },
      "execution_count": null,
      "outputs": [
        {
          "output_type": "stream",
          "name": "stdout",
          "text": [
            "True\n",
            "False\n"
          ]
        }
      ]
    },
    {
      "cell_type": "markdown",
      "source": [
        "####Comparison Operator"
      ],
      "metadata": {
        "id": "5CHpnXdyt_uZ"
      }
    },
    {
      "cell_type": "code",
      "source": [
        "x,y = 9,25"
      ],
      "metadata": {
        "id": "yXPPzPfut_xA"
      },
      "execution_count": null,
      "outputs": []
    },
    {
      "cell_type": "code",
      "source": [
        "print(x==y) # Is x equal to y"
      ],
      "metadata": {
        "colab": {
          "base_uri": "https://localhost:8080/"
        },
        "id": "xZbOKaxzt_zZ",
        "outputId": "d68677f9-55c9-44af-ab32-accc616a57e7"
      },
      "execution_count": null,
      "outputs": [
        {
          "output_type": "stream",
          "name": "stdout",
          "text": [
            "False\n"
          ]
        }
      ]
    },
    {
      "cell_type": "code",
      "source": [
        "print(x != y)"
      ],
      "metadata": {
        "colab": {
          "base_uri": "https://localhost:8080/"
        },
        "id": "vFxA-jhnt_1t",
        "outputId": "a33b9787-b334-48ba-f3cd-526a00347d26"
      },
      "execution_count": null,
      "outputs": [
        {
          "output_type": "stream",
          "name": "stdout",
          "text": [
            "True\n"
          ]
        }
      ]
    },
    {
      "cell_type": "code",
      "source": [
        "print(x > y)"
      ],
      "metadata": {
        "colab": {
          "base_uri": "https://localhost:8080/"
        },
        "id": "tQbn7D5ht_4W",
        "outputId": "1348fc24-12f0-466b-dc50-7f6625ea6d9e"
      },
      "execution_count": null,
      "outputs": [
        {
          "output_type": "stream",
          "name": "stdout",
          "text": [
            "False\n"
          ]
        }
      ]
    },
    {
      "cell_type": "code",
      "source": [
        "print(x < y)"
      ],
      "metadata": {
        "colab": {
          "base_uri": "https://localhost:8080/"
        },
        "id": "MJ5XRPtAt_68",
        "outputId": "b9409ad4-4f3c-4787-9d94-93ef0ac3e540"
      },
      "execution_count": null,
      "outputs": [
        {
          "output_type": "stream",
          "name": "stdout",
          "text": [
            "True\n"
          ]
        }
      ]
    },
    {
      "cell_type": "code",
      "source": [
        "print(x >= y)"
      ],
      "metadata": {
        "colab": {
          "base_uri": "https://localhost:8080/"
        },
        "id": "a6hJiMpUt_9z",
        "outputId": "3e253b5a-a63f-401b-e249-19b4da0888d2"
      },
      "execution_count": null,
      "outputs": [
        {
          "output_type": "stream",
          "name": "stdout",
          "text": [
            "False\n"
          ]
        }
      ]
    },
    {
      "cell_type": "code",
      "source": [
        "print(x <= y)"
      ],
      "metadata": {
        "colab": {
          "base_uri": "https://localhost:8080/"
        },
        "id": "mh4S9BcnuAAa",
        "outputId": "76fb7806-8f68-46dc-afac-015aca13c2fc"
      },
      "execution_count": null,
      "outputs": [
        {
          "output_type": "stream",
          "name": "stdout",
          "text": [
            "True\n"
          ]
        }
      ]
    },
    {
      "cell_type": "markdown",
      "source": [
        "####Logical Operataor"
      ],
      "metadata": {
        "id": "Jkn8SaRZuAC_"
      }
    },
    {
      "cell_type": "markdown",
      "source": [
        "##### The \"and\" Operator"
      ],
      "metadata": {
        "id": "qWYXl1vnxjmS"
      }
    },
    {
      "cell_type": "code",
      "source": [
        "print(x > 5 and y < 30)"
      ],
      "metadata": {
        "colab": {
          "base_uri": "https://localhost:8080/"
        },
        "id": "UddfqWquuAFm",
        "outputId": "1d30f434-c03e-44f5-cd45-9226d9420027"
      },
      "execution_count": null,
      "outputs": [
        {
          "output_type": "stream",
          "name": "stdout",
          "text": [
            "True\n"
          ]
        }
      ]
    },
    {
      "cell_type": "markdown",
      "source": [
        "#####The \"or\" Operator"
      ],
      "metadata": {
        "id": "KaGAcqbsxh_M"
      }
    },
    {
      "cell_type": "code",
      "source": [
        "print(x > 10 and y < 30)"
      ],
      "metadata": {
        "colab": {
          "base_uri": "https://localhost:8080/"
        },
        "id": "flTYI-eXwxp0",
        "outputId": "d0b7514a-0d93-4e13-cac6-070cd92a6115"
      },
      "execution_count": null,
      "outputs": [
        {
          "output_type": "stream",
          "name": "stdout",
          "text": [
            "False\n"
          ]
        }
      ]
    },
    {
      "cell_type": "markdown",
      "source": [
        "#####The \"Not\" Operator"
      ],
      "metadata": {
        "id": "T_lo2MB6w1vf"
      }
    },
    {
      "cell_type": "code",
      "source": [
        "print(not(x > 5))\n",
        "print(not(x<5))"
      ],
      "metadata": {
        "colab": {
          "base_uri": "https://localhost:8080/"
        },
        "id": "cWnr9HWiw14T",
        "outputId": "2dd95c89-3ea6-42b7-839a-08a98431e293"
      },
      "execution_count": null,
      "outputs": [
        {
          "output_type": "stream",
          "name": "stdout",
          "text": [
            "False\n",
            "True\n"
          ]
        }
      ]
    },
    {
      "cell_type": "markdown",
      "source": [
        "#####Identity Operator"
      ],
      "metadata": {
        "id": "f5eQpH3Cw17Z"
      }
    },
    {
      "cell_type": "code",
      "source": [
        "#print(\"cat \" is \"cat\")\n",
        "print(\"cat\" == \"cat\")"
      ],
      "metadata": {
        "colab": {
          "base_uri": "https://localhost:8080/"
        },
        "id": "gwnqPfS0w1-C",
        "outputId": "e30df151-d4fd-4c00-bdb5-223fd74ed144"
      },
      "execution_count": null,
      "outputs": [
        {
          "output_type": "stream",
          "name": "stdout",
          "text": [
            "True\n"
          ]
        }
      ]
    },
    {
      "cell_type": "code",
      "source": [
        "print(\"cat\" is \"dog\")"
      ],
      "metadata": {
        "colab": {
          "base_uri": "https://localhost:8080/"
        },
        "id": "MjYINsu7w2Bs",
        "outputId": "2286107e-677e-4b6d-d28e-3fc8352a536b"
      },
      "execution_count": null,
      "outputs": [
        {
          "output_type": "stream",
          "name": "stdout",
          "text": [
            "False\n"
          ]
        },
        {
          "output_type": "stream",
          "name": "stderr",
          "text": [
            "<>:1: SyntaxWarning: \"is\" with a literal. Did you mean \"==\"?\n",
            "<>:1: SyntaxWarning: \"is\" with a literal. Did you mean \"==\"?\n",
            "<ipython-input-183-9f4bc4f665ad>:1: SyntaxWarning: \"is\" with a literal. Did you mean \"==\"?\n",
            "  print(\"cat\" is \"dog\")\n"
          ]
        }
      ]
    },
    {
      "cell_type": "code",
      "source": [
        "print(\"cat \" is not \"cat\")"
      ],
      "metadata": {
        "colab": {
          "base_uri": "https://localhost:8080/"
        },
        "id": "lbgHuhXHw2E3",
        "outputId": "dab29b3e-3fd4-4daa-ad2e-501e9b70d408"
      },
      "execution_count": null,
      "outputs": [
        {
          "output_type": "stream",
          "name": "stdout",
          "text": [
            "True\n"
          ]
        },
        {
          "output_type": "stream",
          "name": "stderr",
          "text": [
            "<>:1: SyntaxWarning: \"is not\" with a literal. Did you mean \"!=\"?\n",
            "<>:1: SyntaxWarning: \"is not\" with a literal. Did you mean \"!=\"?\n",
            "<ipython-input-184-bdc96e45a86d>:1: SyntaxWarning: \"is not\" with a literal. Did you mean \"!=\"?\n",
            "  print(\"cat \" is not \"cat\")\n"
          ]
        }
      ]
    },
    {
      "cell_type": "code",
      "source": [
        "print(\"cat\" is not \"dog\")"
      ],
      "metadata": {
        "colab": {
          "base_uri": "https://localhost:8080/"
        },
        "id": "xRTbFJWUw2HA",
        "outputId": "a07da70a-d742-46cf-c9fe-4e8bb92c0f85"
      },
      "execution_count": null,
      "outputs": [
        {
          "output_type": "stream",
          "name": "stdout",
          "text": [
            "True\n"
          ]
        },
        {
          "output_type": "stream",
          "name": "stderr",
          "text": [
            "<>:1: SyntaxWarning: \"is not\" with a literal. Did you mean \"!=\"?\n",
            "<>:1: SyntaxWarning: \"is not\" with a literal. Did you mean \"!=\"?\n",
            "<ipython-input-185-5594a05aa962>:1: SyntaxWarning: \"is not\" with a literal. Did you mean \"!=\"?\n",
            "  print(\"cat\" is not \"dog\")\n"
          ]
        }
      ]
    },
    {
      "cell_type": "code",
      "source": [
        "fruit = \"banana\"\n",
        "print(\"na\" in fruit)\n",
        "print(\"na\" not in fruit)"
      ],
      "metadata": {
        "colab": {
          "base_uri": "https://localhost:8080/"
        },
        "id": "dKjcslQcw2Ju",
        "outputId": "19771523-f61e-4816-c0c1-4923b97594da"
      },
      "execution_count": null,
      "outputs": [
        {
          "output_type": "stream",
          "name": "stdout",
          "text": [
            "True\n",
            "False\n"
          ]
        }
      ]
    },
    {
      "cell_type": "markdown",
      "source": [
        "##Collection Data Type"
      ],
      "metadata": {
        "id": "EbPAcxSUgEuI"
      }
    },
    {
      "cell_type": "markdown",
      "source": [
        "###Lists"
      ],
      "metadata": {
        "id": "Ol7YVidww2Mn"
      }
    },
    {
      "cell_type": "code",
      "source": [
        "numbers = [3, 7, 5, 4, 7, 5, 6, 3, 3, 3, 3 ]\n",
        "print(numbers)\n",
        "print(numbers[1])\n",
        "print(numbers[-1])"
      ],
      "metadata": {
        "colab": {
          "base_uri": "https://localhost:8080/"
        },
        "id": "NEqDKp3-w2Pv",
        "outputId": "c78a3312-64f0-411b-aa17-b275feffb9f7"
      },
      "execution_count": null,
      "outputs": [
        {
          "output_type": "stream",
          "name": "stdout",
          "text": [
            "[3, 7, 5, 4, 7, 5, 6, 3, 3, 3, 3]\n",
            "7\n",
            "3\n"
          ]
        }
      ]
    },
    {
      "cell_type": "code",
      "source": [
        "names = [\"Alice\", \"Bob\", \"Carol\", \"Dan\"]\n",
        "print(names[0])\n",
        "print(names[2])"
      ],
      "metadata": {
        "colab": {
          "base_uri": "https://localhost:8080/"
        },
        "id": "4C0eLFZRw2S7",
        "outputId": "dcede5c5-291e-46e1-b1c1-0119e0335446"
      },
      "execution_count": null,
      "outputs": [
        {
          "output_type": "stream",
          "name": "stdout",
          "text": [
            "Alice\n",
            "Carol\n"
          ]
        }
      ]
    },
    {
      "cell_type": "code",
      "source": [
        "print(names[0][1])"
      ],
      "metadata": {
        "colab": {
          "base_uri": "https://localhost:8080/"
        },
        "id": "7tyirF-jw2VM",
        "outputId": "cc0cec46-1641-437b-d460-57598dd9b7d6"
      },
      "execution_count": null,
      "outputs": [
        {
          "output_type": "stream",
          "name": "stdout",
          "text": [
            "l\n"
          ]
        }
      ]
    },
    {
      "cell_type": "code",
      "source": [
        "print(names[1:3])"
      ],
      "metadata": {
        "colab": {
          "base_uri": "https://localhost:8080/"
        },
        "id": "F1zul477w2YU",
        "outputId": "ab712855-4c24-438f-d534-5ce20f2180af"
      },
      "execution_count": null,
      "outputs": [
        {
          "output_type": "stream",
          "name": "stdout",
          "text": [
            "['Bob', 'Carol']\n"
          ]
        }
      ]
    },
    {
      "cell_type": "code",
      "source": [
        "print(names[0:4])"
      ],
      "metadata": {
        "colab": {
          "base_uri": "https://localhost:8080/"
        },
        "id": "zu-pXrDW0AO-",
        "outputId": "664bf78b-5973-4c93-fd50-bedce66ce9a8"
      },
      "execution_count": null,
      "outputs": [
        {
          "output_type": "stream",
          "name": "stdout",
          "text": [
            "['Alice', 'Bob', 'Carol', 'Dan']\n"
          ]
        }
      ]
    },
    {
      "cell_type": "code",
      "source": [
        "print(names[0:-1])"
      ],
      "metadata": {
        "colab": {
          "base_uri": "https://localhost:8080/"
        },
        "id": "4501S3ab0GeV",
        "outputId": "14c4d7ce-af4d-47ca-a69e-f9dd6438d6b6"
      },
      "execution_count": null,
      "outputs": [
        {
          "output_type": "stream",
          "name": "stdout",
          "text": [
            "['Alice', 'Bob', 'Carol']\n"
          ]
        }
      ]
    },
    {
      "cell_type": "code",
      "source": [
        "print(names[0:])"
      ],
      "metadata": {
        "colab": {
          "base_uri": "https://localhost:8080/"
        },
        "id": "jjOmZbOS0fcx",
        "outputId": "6d7b2010-2051-4713-b006-2bb0bd80b29a"
      },
      "execution_count": null,
      "outputs": [
        {
          "output_type": "stream",
          "name": "stdout",
          "text": [
            "['Alice', 'Bob', 'Carol', 'Dan']\n"
          ]
        }
      ]
    },
    {
      "cell_type": "code",
      "source": [
        "string = \"Olivia\""
      ],
      "metadata": {
        "id": "1u5MYxS60jVz"
      },
      "execution_count": null,
      "outputs": []
    },
    {
      "cell_type": "code",
      "source": [
        "string[2]"
      ],
      "metadata": {
        "colab": {
          "base_uri": "https://localhost:8080/",
          "height": 35
        },
        "id": "PriZRtbS0pDz",
        "outputId": "dfe7d403-6d91-429c-bd3d-89775c22a9fb"
      },
      "execution_count": null,
      "outputs": [
        {
          "output_type": "execute_result",
          "data": {
            "text/plain": [
              "'i'"
            ],
            "application/vnd.google.colaboratory.intrinsic+json": {
              "type": "string"
            }
          },
          "metadata": {},
          "execution_count": 195
        }
      ]
    },
    {
      "cell_type": "code",
      "source": [
        "#string[2] = 5"
      ],
      "metadata": {
        "id": "_NEnV4NJ0sna"
      },
      "execution_count": null,
      "outputs": []
    },
    {
      "cell_type": "code",
      "source": [
        "names = [\"Alice\", \"Bob\", \"Carol\", \"Dan\"]\n",
        "print(names)\n",
        "names[1] = \"Bobby\"\n",
        "print(names)"
      ],
      "metadata": {
        "colab": {
          "base_uri": "https://localhost:8080/"
        },
        "id": "dKVdpQu-0wrZ",
        "outputId": "9cfdf8f3-1838-4f05-da1d-77badd6e6574"
      },
      "execution_count": null,
      "outputs": [
        {
          "output_type": "stream",
          "name": "stdout",
          "text": [
            "['Alice', 'Bob', 'Carol', 'Dan']\n",
            "['Alice', 'Bobby', 'Carol', 'Dan']\n"
          ]
        }
      ]
    },
    {
      "cell_type": "code",
      "source": [
        "#Enter 10 items\n",
        "data = input(\"Write 10 items space bewteen each : \")\n",
        "data2 = data.split(\" \")\n",
        "print(data2)"
      ],
      "metadata": {
        "colab": {
          "base_uri": "https://localhost:8080/"
        },
        "id": "yQ-SidEX07sT",
        "outputId": "675df563-608d-45b9-909d-f64603ea0d12"
      },
      "execution_count": null,
      "outputs": [
        {
          "output_type": "stream",
          "name": "stdout",
          "text": [
            "Write 10 items space bewteen each : Dog Smog Fog\n",
            "['Dog', 'Smog', 'Fog']\n"
          ]
        }
      ]
    },
    {
      "cell_type": "markdown",
      "source": [
        "####Nested List"
      ],
      "metadata": {
        "id": "l707cuyV07vG"
      }
    },
    {
      "cell_type": "code",
      "source": [
        "matrix =[[1, 2, 3], [4, 5, 6], [7, 8, 9]]"
      ],
      "metadata": {
        "id": "-QS-elv207x_"
      },
      "execution_count": 1,
      "outputs": []
    },
    {
      "cell_type": "code",
      "source": [
        "print(matrix)"
      ],
      "metadata": {
        "id": "3sqypL1G071G",
        "colab": {
          "base_uri": "https://localhost:8080/"
        },
        "outputId": "cbb6b306-3884-4efd-c990-460dab071802"
      },
      "execution_count": 2,
      "outputs": [
        {
          "output_type": "stream",
          "name": "stdout",
          "text": [
            "[[1, 2, 3], [4, 5, 6], [7, 8, 9]]\n"
          ]
        }
      ]
    },
    {
      "cell_type": "code",
      "source": [
        "print(matrix[1][2])"
      ],
      "metadata": {
        "id": "VfIRnbvK074N",
        "colab": {
          "base_uri": "https://localhost:8080/"
        },
        "outputId": "9d2e556f-2d36-4b71-851e-db1fecfec72e"
      },
      "execution_count": 3,
      "outputs": [
        {
          "output_type": "stream",
          "name": "stdout",
          "text": [
            "6\n"
          ]
        }
      ]
    },
    {
      "cell_type": "code",
      "source": [
        "print(matrix[2][0])"
      ],
      "metadata": {
        "id": "zKyDeMze077X",
        "colab": {
          "base_uri": "https://localhost:8080/"
        },
        "outputId": "aab8c1e9-746f-4fd2-bb3a-6d90da077833"
      },
      "execution_count": 4,
      "outputs": [
        {
          "output_type": "stream",
          "name": "stdout",
          "text": [
            "7\n"
          ]
        }
      ]
    },
    {
      "cell_type": "code",
      "source": [
        "matrix = [[[1, 2], [3, 4, 5, 6]]]"
      ],
      "metadata": {
        "id": "XbNfD_VD07-O"
      },
      "execution_count": null,
      "outputs": []
    },
    {
      "cell_type": "code",
      "source": [],
      "metadata": {
        "id": "XzPGg0f008BY"
      },
      "execution_count": null,
      "outputs": []
    },
    {
      "cell_type": "markdown",
      "source": [
        "####List Function"
      ],
      "metadata": {
        "id": "OUakNh2s08Ee"
      }
    },
    {
      "cell_type": "code",
      "source": [
        "pets = [\"cats\", \"dogs\", \"parrots\"]\n",
        "print(len(pets))"
      ],
      "metadata": {
        "id": "zCIhlKmf08H6",
        "colab": {
          "base_uri": "https://localhost:8080/"
        },
        "outputId": "1d7bbc1f-5586-4704-ab82-68f9c8eff88e"
      },
      "execution_count": 5,
      "outputs": [
        {
          "output_type": "stream",
          "name": "stdout",
          "text": [
            "3\n"
          ]
        }
      ]
    },
    {
      "cell_type": "code",
      "source": [
        "print(pets)\n",
        "pets.append(\"fish\")\n",
        "print(pets)"
      ],
      "metadata": {
        "id": "ieo1npnZ08LG",
        "colab": {
          "base_uri": "https://localhost:8080/"
        },
        "outputId": "8b673a63-3f52-44e3-b97a-67d6a894af79"
      },
      "execution_count": 6,
      "outputs": [
        {
          "output_type": "stream",
          "name": "stdout",
          "text": [
            "['cats', 'dogs', 'parrots']\n",
            "['cats', 'dogs', 'parrots', 'fish']\n"
          ]
        }
      ]
    },
    {
      "cell_type": "code",
      "source": [
        "dir(pets)"
      ],
      "metadata": {
        "id": "hN6TGARb08Op",
        "colab": {
          "base_uri": "https://localhost:8080/"
        },
        "outputId": "429fa2f8-555f-4d0d-d866-eb4fb7fb46b3"
      },
      "execution_count": 7,
      "outputs": [
        {
          "output_type": "execute_result",
          "data": {
            "text/plain": [
              "['__add__',\n",
              " '__class__',\n",
              " '__class_getitem__',\n",
              " '__contains__',\n",
              " '__delattr__',\n",
              " '__delitem__',\n",
              " '__dir__',\n",
              " '__doc__',\n",
              " '__eq__',\n",
              " '__format__',\n",
              " '__ge__',\n",
              " '__getattribute__',\n",
              " '__getitem__',\n",
              " '__gt__',\n",
              " '__hash__',\n",
              " '__iadd__',\n",
              " '__imul__',\n",
              " '__init__',\n",
              " '__init_subclass__',\n",
              " '__iter__',\n",
              " '__le__',\n",
              " '__len__',\n",
              " '__lt__',\n",
              " '__mul__',\n",
              " '__ne__',\n",
              " '__new__',\n",
              " '__reduce__',\n",
              " '__reduce_ex__',\n",
              " '__repr__',\n",
              " '__reversed__',\n",
              " '__rmul__',\n",
              " '__setattr__',\n",
              " '__setitem__',\n",
              " '__sizeof__',\n",
              " '__str__',\n",
              " '__subclasshook__',\n",
              " 'append',\n",
              " 'clear',\n",
              " 'copy',\n",
              " 'count',\n",
              " 'extend',\n",
              " 'index',\n",
              " 'insert',\n",
              " 'pop',\n",
              " 'remove',\n",
              " 'reverse',\n",
              " 'sort']"
            ]
          },
          "metadata": {},
          "execution_count": 7
        }
      ]
    },
    {
      "cell_type": "code",
      "source": [
        "pets.insert(1, \"hamster\")\n",
        "print(pets)"
      ],
      "metadata": {
        "id": "yubejlXv08Rh",
        "colab": {
          "base_uri": "https://localhost:8080/"
        },
        "outputId": "96838383-cac9-490c-e99a-ec0716a1a525"
      },
      "execution_count": 8,
      "outputs": [
        {
          "output_type": "stream",
          "name": "stdout",
          "text": [
            "['cats', 'hamster', 'dogs', 'parrots', 'fish']\n"
          ]
        }
      ]
    },
    {
      "cell_type": "code",
      "source": [
        "print(\"cats\" in pets)"
      ],
      "metadata": {
        "id": "qQgE9mRf08Um",
        "colab": {
          "base_uri": "https://localhost:8080/"
        },
        "outputId": "daa49683-0606-42c6-a472-03affc327f6c"
      },
      "execution_count": 9,
      "outputs": [
        {
          "output_type": "stream",
          "name": "stdout",
          "text": [
            "True\n"
          ]
        }
      ]
    },
    {
      "cell_type": "code",
      "source": [
        "print(\"tiger\" in pets)"
      ],
      "metadata": {
        "id": "oX3c9qZ-08Xu",
        "colab": {
          "base_uri": "https://localhost:8080/"
        },
        "outputId": "fe19360b-ba17-4918-ce74-42e77798a782"
      },
      "execution_count": 10,
      "outputs": [
        {
          "output_type": "stream",
          "name": "stdout",
          "text": [
            "False\n"
          ]
        }
      ]
    },
    {
      "cell_type": "code",
      "source": [
        "pets.remove(\"fish\")\n",
        "print(pets)"
      ],
      "metadata": {
        "id": "nyFdhiNz08am",
        "colab": {
          "base_uri": "https://localhost:8080/"
        },
        "outputId": "7f6c2efb-e6ba-4d3c-fb81-4d18d2bef918"
      },
      "execution_count": 11,
      "outputs": [
        {
          "output_type": "stream",
          "name": "stdout",
          "text": [
            "['cats', 'hamster', 'dogs', 'parrots']\n"
          ]
        }
      ]
    },
    {
      "cell_type": "code",
      "source": [
        "pets.remove(pets[3])\n",
        "print(pets)"
      ],
      "metadata": {
        "id": "GeswHO1D08dv",
        "colab": {
          "base_uri": "https://localhost:8080/"
        },
        "outputId": "7a4ab9b0-1674-4e07-e58e-3fe873082cbf"
      },
      "execution_count": 12,
      "outputs": [
        {
          "output_type": "stream",
          "name": "stdout",
          "text": [
            "['cats', 'hamster', 'dogs']\n"
          ]
        }
      ]
    },
    {
      "cell_type": "code",
      "source": [
        "pets.pop()"
      ],
      "metadata": {
        "id": "eFLgjByO08g3",
        "colab": {
          "base_uri": "https://localhost:8080/",
          "height": 35
        },
        "outputId": "044d027b-e99f-4723-dee0-0a6f6bcc0005"
      },
      "execution_count": 13,
      "outputs": [
        {
          "output_type": "execute_result",
          "data": {
            "text/plain": [
              "'dogs'"
            ],
            "application/vnd.google.colaboratory.intrinsic+json": {
              "type": "string"
            }
          },
          "metadata": {},
          "execution_count": 13
        }
      ]
    },
    {
      "cell_type": "code",
      "source": [
        "pets.pop(0)"
      ],
      "metadata": {
        "id": "duDqaVvL08ju",
        "colab": {
          "base_uri": "https://localhost:8080/",
          "height": 35
        },
        "outputId": "f67e7517-4dc2-4254-cccd-5d162d819b38"
      },
      "execution_count": 14,
      "outputs": [
        {
          "output_type": "execute_result",
          "data": {
            "text/plain": [
              "'cats'"
            ],
            "application/vnd.google.colaboratory.intrinsic+json": {
              "type": "string"
            }
          },
          "metadata": {},
          "execution_count": 14
        }
      ]
    },
    {
      "cell_type": "code",
      "source": [
        "pets = [\"cats\", \"dogs\", \"parrots\"]"
      ],
      "metadata": {
        "id": "KvfSq7s608m4"
      },
      "execution_count": 15,
      "outputs": []
    },
    {
      "cell_type": "code",
      "source": [
        "del pets[1]"
      ],
      "metadata": {
        "id": "PJMRRkY808pt"
      },
      "execution_count": 16,
      "outputs": []
    },
    {
      "cell_type": "code",
      "source": [
        "pets"
      ],
      "metadata": {
        "id": "xdMMNzeO08sm",
        "colab": {
          "base_uri": "https://localhost:8080/"
        },
        "outputId": "0b18d697-9f3b-49e8-fe02-ce8f17e9346a"
      },
      "execution_count": 17,
      "outputs": [
        {
          "output_type": "execute_result",
          "data": {
            "text/plain": [
              "['cats', 'parrots']"
            ]
          },
          "metadata": {},
          "execution_count": 17
        }
      ]
    },
    {
      "cell_type": "code",
      "source": [
        "pets.clear()"
      ],
      "metadata": {
        "id": "JDqja2A9UueU"
      },
      "execution_count": 19,
      "outputs": []
    },
    {
      "cell_type": "code",
      "source": [
        "pets"
      ],
      "metadata": {
        "colab": {
          "base_uri": "https://localhost:8080/"
        },
        "id": "PKLUsgzAU0ck",
        "outputId": "997022d9-a5cb-4c57-828a-571475c8202e"
      },
      "execution_count": 20,
      "outputs": [
        {
          "output_type": "execute_result",
          "data": {
            "text/plain": [
              "[]"
            ]
          },
          "metadata": {},
          "execution_count": 20
        }
      ]
    },
    {
      "cell_type": "code",
      "source": [
        "pets"
      ],
      "metadata": {
        "colab": {
          "base_uri": "https://localhost:8080/"
        },
        "id": "qB8vSEXAU2fC",
        "outputId": "ba76451c-528d-484f-84ca-a78688a87f8c"
      },
      "execution_count": 21,
      "outputs": [
        {
          "output_type": "execute_result",
          "data": {
            "text/plain": [
              "[]"
            ]
          },
          "metadata": {},
          "execution_count": 21
        }
      ]
    },
    {
      "cell_type": "code",
      "source": [
        "pets = None"
      ],
      "metadata": {
        "id": "0pHNCIYqU2h5"
      },
      "execution_count": 22,
      "outputs": []
    },
    {
      "cell_type": "markdown",
      "source": [
        "###Iterators"
      ],
      "metadata": {
        "id": "4_CdksccU2oI"
      }
    },
    {
      "cell_type": "code",
      "source": [
        "my_cats = \"Fluffy\"\n",
        "my_iterators = iter(my_cats)"
      ],
      "metadata": {
        "id": "sWO041M_U2rB"
      },
      "execution_count": 23,
      "outputs": []
    },
    {
      "cell_type": "code",
      "source": [
        "print(next(my_iterators))"
      ],
      "metadata": {
        "colab": {
          "base_uri": "https://localhost:8080/"
        },
        "id": "FFij-NQaU2yT",
        "outputId": "a885b564-212f-4574-b2f0-d41be6a20959"
      },
      "execution_count": 24,
      "outputs": [
        {
          "output_type": "stream",
          "name": "stdout",
          "text": [
            "F\n"
          ]
        }
      ]
    },
    {
      "cell_type": "code",
      "source": [
        "print(next(my_iterators))"
      ],
      "metadata": {
        "colab": {
          "base_uri": "https://localhost:8080/"
        },
        "id": "4_TgAjkPU21b",
        "outputId": "101ae884-1110-47d9-961c-d0b51a3cb3de"
      },
      "execution_count": 25,
      "outputs": [
        {
          "output_type": "stream",
          "name": "stdout",
          "text": [
            "l\n"
          ]
        }
      ]
    },
    {
      "cell_type": "code",
      "source": [
        "print(next(my_iterators))"
      ],
      "metadata": {
        "colab": {
          "base_uri": "https://localhost:8080/"
        },
        "id": "SD5RDbXEU24S",
        "outputId": "ce83db5a-08dd-40cc-8be6-4c35a4f3ad7e"
      },
      "execution_count": 26,
      "outputs": [
        {
          "output_type": "stream",
          "name": "stdout",
          "text": [
            "u\n"
          ]
        }
      ]
    },
    {
      "cell_type": "markdown",
      "source": [
        "###Tuples"
      ],
      "metadata": {
        "id": "jDHGUdVHU27M"
      }
    },
    {
      "cell_type": "code",
      "source": [
        "my_desk = (\"laptop\", \"mouse\", \"paper\", \"pen\")\n",
        "print(my_desk)\n",
        "print(type(my_desk))"
      ],
      "metadata": {
        "colab": {
          "base_uri": "https://localhost:8080/"
        },
        "id": "BxeLX3lBU29w",
        "outputId": "4639dca4-7f84-48e7-a789-20bfd99d240f"
      },
      "execution_count": 28,
      "outputs": [
        {
          "output_type": "stream",
          "name": "stdout",
          "text": [
            "('laptop', 'mouse', 'paper', 'pen')\n",
            "<class 'tuple'>\n"
          ]
        }
      ]
    },
    {
      "cell_type": "code",
      "source": [
        "my_desk = (\"laptop\", \"mouse\", \"paper\", \"pen\")\n",
        "new_desk = my_desk[1:3]\n",
        "print(new_desk)\n",
        "print(type(new_desk))"
      ],
      "metadata": {
        "colab": {
          "base_uri": "https://localhost:8080/"
        },
        "id": "uw0u7LLKXiR9",
        "outputId": "eb766822-f71e-40e5-faeb-e5ffb6ab4dce"
      },
      "execution_count": 29,
      "outputs": [
        {
          "output_type": "stream",
          "name": "stdout",
          "text": [
            "('mouse', 'paper')\n",
            "<class 'tuple'>\n"
          ]
        }
      ]
    },
    {
      "cell_type": "code",
      "source": [
        "\n",
        "new_desk = my_desk + (\"coffee\",)\n",
        "print(new_desk)\n",
        "print(type(new_desk))"
      ],
      "metadata": {
        "colab": {
          "base_uri": "https://localhost:8080/"
        },
        "id": "492VX5UGXrX-",
        "outputId": "1296f1cf-d445-4b05-c202-064c3657eed4"
      },
      "execution_count": 30,
      "outputs": [
        {
          "output_type": "stream",
          "name": "stdout",
          "text": [
            "('laptop', 'mouse', 'paper', 'pen', 'coffee')\n",
            "<class 'tuple'>\n"
          ]
        }
      ]
    },
    {
      "cell_type": "code",
      "source": [
        "my_desk_list = list(my_desk)"
      ],
      "metadata": {
        "id": "6RF9zmRiXqcE"
      },
      "execution_count": 31,
      "outputs": []
    },
    {
      "cell_type": "code",
      "source": [
        "my_desk_list.append(\"phone\")\n",
        "new_desk = tuple(my_desk_list)\n",
        "print(new_desk)\n",
        "print(type(new_desk))"
      ],
      "metadata": {
        "colab": {
          "base_uri": "https://localhost:8080/"
        },
        "id": "p0kHI8BuXqea",
        "outputId": "a3bbe08f-0f40-401a-c53f-493630ae11c1"
      },
      "execution_count": 32,
      "outputs": [
        {
          "output_type": "stream",
          "name": "stdout",
          "text": [
            "('laptop', 'mouse', 'paper', 'pen', 'phone')\n",
            "<class 'tuple'>\n"
          ]
        }
      ]
    },
    {
      "cell_type": "code",
      "source": [
        "new_desk"
      ],
      "metadata": {
        "colab": {
          "base_uri": "https://localhost:8080/"
        },
        "id": "8jYJnel3XqhS",
        "outputId": "a03ad640-0783-442e-a2e6-423ee8569ad8"
      },
      "execution_count": 33,
      "outputs": [
        {
          "output_type": "execute_result",
          "data": {
            "text/plain": [
              "('laptop', 'mouse', 'paper', 'pen', 'phone')"
            ]
          },
          "metadata": {},
          "execution_count": 33
        }
      ]
    },
    {
      "cell_type": "code",
      "source": [
        "type(new_desk)"
      ],
      "metadata": {
        "colab": {
          "base_uri": "https://localhost:8080/"
        },
        "id": "pmLTxKnqXqkJ",
        "outputId": "d0b7426e-b2eb-455e-9de6-54f972908c1c"
      },
      "execution_count": 34,
      "outputs": [
        {
          "output_type": "execute_result",
          "data": {
            "text/plain": [
              "tuple"
            ]
          },
          "metadata": {},
          "execution_count": 34
        }
      ]
    },
    {
      "cell_type": "code",
      "source": [
        "#new_desk.append(\"pencil\")\n",
        "new_desk = my_desk + (\"pencil\", )"
      ],
      "metadata": {
        "id": "6829CecYXqnC"
      },
      "execution_count": 36,
      "outputs": []
    },
    {
      "cell_type": "markdown",
      "source": [
        "#### Tupple use cases"
      ],
      "metadata": {
        "id": "6eh8nthDXqqJ"
      }
    },
    {
      "cell_type": "code",
      "source": [
        "db = (\"Oracle\", \"SQL\")"
      ],
      "metadata": {
        "id": "lagnrTPRXqsg"
      },
      "execution_count": 37,
      "outputs": []
    },
    {
      "cell_type": "code",
      "source": [
        "new_db = db + (\"username\", \"password\")\n",
        "print(new_db)\n",
        "print(type(db))"
      ],
      "metadata": {
        "colab": {
          "base_uri": "https://localhost:8080/"
        },
        "id": "9xCJQgGFXquy",
        "outputId": "69f7f118-f137-432c-c8a4-f7eec41a44f6"
      },
      "execution_count": 40,
      "outputs": [
        {
          "output_type": "stream",
          "name": "stdout",
          "text": [
            "('Oracle', 'SQL', 'username', 'password')\n",
            "<class 'tuple'>\n"
          ]
        }
      ]
    },
    {
      "cell_type": "code",
      "source": [
        "friend1 = (\"Alex\", 25, False)\n",
        "friend2 = (\"Diane\", 23, False)\n",
        "friend3 = (\"Micheal\", 32, True)"
      ],
      "metadata": {
        "id": "oZZJ35gZXqxL"
      },
      "execution_count": 42,
      "outputs": []
    },
    {
      "cell_type": "code",
      "source": [
        "print(friend1)\n",
        "print(friend2)\n",
        "print(friend3)"
      ],
      "metadata": {
        "colab": {
          "base_uri": "https://localhost:8080/"
        },
        "id": "0q3EWDaMXqzx",
        "outputId": "3d9ae2e7-36df-4c77-bb34-ace1585ea113"
      },
      "execution_count": 43,
      "outputs": [
        {
          "output_type": "stream",
          "name": "stdout",
          "text": [
            "('Alex', 25, False)\n",
            "('Diane', 23, False)\n",
            "('Micheal', 32, True)\n"
          ]
        }
      ]
    },
    {
      "cell_type": "code",
      "source": [
        "#friend2 = (\"Erica\") +"
      ],
      "metadata": {
        "id": "xZqSdTxUXq3L"
      },
      "execution_count": null,
      "outputs": []
    },
    {
      "cell_type": "code",
      "source": [],
      "metadata": {
        "id": "qbip8KtxXq5q"
      },
      "execution_count": null,
      "outputs": []
    },
    {
      "cell_type": "markdown",
      "source": [
        "###Sets"
      ],
      "metadata": {
        "id": "OkFVol-fXq8H"
      }
    },
    {
      "cell_type": "code",
      "source": [
        "days = {\"Mon\", \"Tues\", \"Wed\", \"Thur\", \"Fri\", \"Tues\", \"Tues\"}"
      ],
      "metadata": {
        "id": "38wfG9zWbIDh"
      },
      "execution_count": 44,
      "outputs": []
    },
    {
      "cell_type": "code",
      "source": [
        "type(days)"
      ],
      "metadata": {
        "colab": {
          "base_uri": "https://localhost:8080/"
        },
        "id": "rfWWxMTCbIA4",
        "outputId": "327a6c3e-024a-485f-dea0-bb586bc350e2"
      },
      "execution_count": 45,
      "outputs": [
        {
          "output_type": "execute_result",
          "data": {
            "text/plain": [
              "set"
            ]
          },
          "metadata": {},
          "execution_count": 45
        }
      ]
    },
    {
      "cell_type": "code",
      "source": [
        "print(days)"
      ],
      "metadata": {
        "colab": {
          "base_uri": "https://localhost:8080/"
        },
        "id": "6D2BHTrqbH-S",
        "outputId": "b9c4d892-f8cc-45b6-ad7c-b5e89d8afc05"
      },
      "execution_count": 46,
      "outputs": [
        {
          "output_type": "stream",
          "name": "stdout",
          "text": [
            "{'Mon', 'Fri', 'Wed', 'Tues', 'Thur'}\n"
          ]
        }
      ]
    },
    {
      "cell_type": "code",
      "source": [
        "dir(set)"
      ],
      "metadata": {
        "colab": {
          "base_uri": "https://localhost:8080/"
        },
        "id": "x5lcQbFtbH7r",
        "outputId": "dcad0245-8b23-49e4-884c-7f8eaba79d95"
      },
      "execution_count": 47,
      "outputs": [
        {
          "output_type": "execute_result",
          "data": {
            "text/plain": [
              "['__and__',\n",
              " '__class__',\n",
              " '__class_getitem__',\n",
              " '__contains__',\n",
              " '__delattr__',\n",
              " '__dir__',\n",
              " '__doc__',\n",
              " '__eq__',\n",
              " '__format__',\n",
              " '__ge__',\n",
              " '__getattribute__',\n",
              " '__gt__',\n",
              " '__hash__',\n",
              " '__iand__',\n",
              " '__init__',\n",
              " '__init_subclass__',\n",
              " '__ior__',\n",
              " '__isub__',\n",
              " '__iter__',\n",
              " '__ixor__',\n",
              " '__le__',\n",
              " '__len__',\n",
              " '__lt__',\n",
              " '__ne__',\n",
              " '__new__',\n",
              " '__or__',\n",
              " '__rand__',\n",
              " '__reduce__',\n",
              " '__reduce_ex__',\n",
              " '__repr__',\n",
              " '__ror__',\n",
              " '__rsub__',\n",
              " '__rxor__',\n",
              " '__setattr__',\n",
              " '__sizeof__',\n",
              " '__str__',\n",
              " '__sub__',\n",
              " '__subclasshook__',\n",
              " '__xor__',\n",
              " 'add',\n",
              " 'clear',\n",
              " 'copy',\n",
              " 'difference',\n",
              " 'difference_update',\n",
              " 'discard',\n",
              " 'intersection',\n",
              " 'intersection_update',\n",
              " 'isdisjoint',\n",
              " 'issubset',\n",
              " 'issuperset',\n",
              " 'pop',\n",
              " 'remove',\n",
              " 'symmetric_difference',\n",
              " 'symmetric_difference_update',\n",
              " 'union',\n",
              " 'update']"
            ]
          },
          "metadata": {},
          "execution_count": 47
        }
      ]
    },
    {
      "cell_type": "markdown",
      "source": [
        "####Updating Sets"
      ],
      "metadata": {
        "id": "q_zdwKpybH4z"
      }
    },
    {
      "cell_type": "code",
      "source": [
        "days ={\"Mon\", \"Tue\", \"Wes\"}\n",
        "days.add(\"Thur\")\n",
        "print(days)"
      ],
      "metadata": {
        "colab": {
          "base_uri": "https://localhost:8080/"
        },
        "id": "PgU17udcbH2S",
        "outputId": "e71adf6a-ebb9-49d9-beaf-37a15eea3ffa"
      },
      "execution_count": 48,
      "outputs": [
        {
          "output_type": "stream",
          "name": "stdout",
          "text": [
            "{'Mon', 'Thur', 'Tue', 'Wes'}\n"
          ]
        }
      ]
    },
    {
      "cell_type": "code",
      "source": [
        "days.update([\"Fri\", \"Sat\", \"Tue\"])\n",
        "print(days)"
      ],
      "metadata": {
        "colab": {
          "base_uri": "https://localhost:8080/"
        },
        "id": "ogI1TgdabHzq",
        "outputId": "5d7183b9-b94a-4e36-b97f-85ada254dd50"
      },
      "execution_count": 50,
      "outputs": [
        {
          "output_type": "stream",
          "name": "stdout",
          "text": [
            "{'Mon', 'Wes', 'Thur', 'Fri', 'Tue', 'Sat'}\n"
          ]
        }
      ]
    },
    {
      "cell_type": "code",
      "source": [
        "days.remove(\"Mon\")\n",
        "print(days)"
      ],
      "metadata": {
        "colab": {
          "base_uri": "https://localhost:8080/"
        },
        "id": "1CBTbx0MbHVc",
        "outputId": "aeff1e7b-6f37-4fa3-e210-e204219563f6"
      },
      "execution_count": 51,
      "outputs": [
        {
          "output_type": "stream",
          "name": "stdout",
          "text": [
            "{'Wes', 'Thur', 'Fri', 'Tue', 'Sat'}\n"
          ]
        }
      ]
    },
    {
      "cell_type": "code",
      "source": [
        "days.pop()\n",
        "print(days)"
      ],
      "metadata": {
        "colab": {
          "base_uri": "https://localhost:8080/"
        },
        "id": "KYeOrUTUbHSx",
        "outputId": "117b6e62-6fef-4191-e7ff-879412f84404"
      },
      "execution_count": 52,
      "outputs": [
        {
          "output_type": "stream",
          "name": "stdout",
          "text": [
            "{'Thur', 'Fri', 'Tue', 'Sat'}\n"
          ]
        }
      ]
    },
    {
      "cell_type": "code",
      "source": [
        "days.clear()\n",
        "print(days)"
      ],
      "metadata": {
        "colab": {
          "base_uri": "https://localhost:8080/"
        },
        "id": "JnOzmh53bHP7",
        "outputId": "10307ca1-f291-4428-e0c5-bc203eb3ae51"
      },
      "execution_count": 53,
      "outputs": [
        {
          "output_type": "stream",
          "name": "stdout",
          "text": [
            "set()\n"
          ]
        }
      ]
    },
    {
      "cell_type": "code",
      "source": [
        "#del days\n",
        "#print days"
      ],
      "metadata": {
        "id": "Jz6gli3LbHNT"
      },
      "execution_count": 56,
      "outputs": []
    },
    {
      "cell_type": "markdown",
      "source": [
        "### Dictionaries"
      ],
      "metadata": {
        "id": "FUlsbUCAbHKs"
      }
    },
    {
      "cell_type": "code",
      "source": [
        "my_cat = {\n",
        "    \"name\" : \"Fluffy\",\n",
        "    \"age\" : 2,\n",
        "     \"color\":\"black\"\n",
        "\n",
        "}"
      ],
      "metadata": {
        "id": "2YVQ6A9sbHIH"
      },
      "execution_count": 70,
      "outputs": []
    },
    {
      "cell_type": "code",
      "source": [
        "type(my_cat)"
      ],
      "metadata": {
        "colab": {
          "base_uri": "https://localhost:8080/"
        },
        "id": "S56v6g-ubHEu",
        "outputId": "b1712730-a8aa-4f3f-e41e-b38ad901849b"
      },
      "execution_count": 64,
      "outputs": [
        {
          "output_type": "execute_result",
          "data": {
            "text/plain": [
              "dict"
            ]
          },
          "metadata": {},
          "execution_count": 64
        }
      ]
    },
    {
      "cell_type": "code",
      "source": [
        "dir(my_cat)"
      ],
      "metadata": {
        "colab": {
          "base_uri": "https://localhost:8080/"
        },
        "id": "9AjxMan9g22B",
        "outputId": "5b1a231a-3508-4f1b-eed0-8f58ebdb9695"
      },
      "execution_count": 65,
      "outputs": [
        {
          "output_type": "execute_result",
          "data": {
            "text/plain": [
              "['__class__',\n",
              " '__class_getitem__',\n",
              " '__contains__',\n",
              " '__delattr__',\n",
              " '__delitem__',\n",
              " '__dir__',\n",
              " '__doc__',\n",
              " '__eq__',\n",
              " '__format__',\n",
              " '__ge__',\n",
              " '__getattribute__',\n",
              " '__getitem__',\n",
              " '__gt__',\n",
              " '__hash__',\n",
              " '__init__',\n",
              " '__init_subclass__',\n",
              " '__ior__',\n",
              " '__iter__',\n",
              " '__le__',\n",
              " '__len__',\n",
              " '__lt__',\n",
              " '__ne__',\n",
              " '__new__',\n",
              " '__or__',\n",
              " '__reduce__',\n",
              " '__reduce_ex__',\n",
              " '__repr__',\n",
              " '__reversed__',\n",
              " '__ror__',\n",
              " '__setattr__',\n",
              " '__setitem__',\n",
              " '__sizeof__',\n",
              " '__str__',\n",
              " '__subclasshook__',\n",
              " 'clear',\n",
              " 'copy',\n",
              " 'fromkeys',\n",
              " 'get',\n",
              " 'items',\n",
              " 'keys',\n",
              " 'pop',\n",
              " 'popitem',\n",
              " 'setdefault',\n",
              " 'update',\n",
              " 'values']"
            ]
          },
          "metadata": {},
          "execution_count": 65
        }
      ]
    },
    {
      "cell_type": "code",
      "source": [
        "print(my_cat[\"name\"])"
      ],
      "metadata": {
        "colab": {
          "base_uri": "https://localhost:8080/"
        },
        "id": "XhZ7M7zeg6kW",
        "outputId": "1bd0b807-aba1-4399-fa39-789fb93b45db"
      },
      "execution_count": 66,
      "outputs": [
        {
          "output_type": "stream",
          "name": "stdout",
          "text": [
            "Fluffy\n"
          ]
        }
      ]
    },
    {
      "cell_type": "code",
      "source": [
        "print(my_cat.get(\"age\"))"
      ],
      "metadata": {
        "colab": {
          "base_uri": "https://localhost:8080/"
        },
        "id": "PQzHDDzFhbqf",
        "outputId": "9cee071b-626a-4fba-c760-63c08027c75b"
      },
      "execution_count": 71,
      "outputs": [
        {
          "output_type": "stream",
          "name": "stdout",
          "text": [
            "2\n"
          ]
        }
      ]
    },
    {
      "cell_type": "code",
      "source": [
        "print(my_cat.values())"
      ],
      "metadata": {
        "colab": {
          "base_uri": "https://localhost:8080/"
        },
        "id": "66f-2FSkhiOc",
        "outputId": "f6cd07ca-2e80-43d9-c2fc-9113d283b187"
      },
      "execution_count": 72,
      "outputs": [
        {
          "output_type": "stream",
          "name": "stdout",
          "text": [
            "dict_values(['Fluffy', 2, 'black'])\n"
          ]
        }
      ]
    },
    {
      "cell_type": "code",
      "source": [
        "print(my_cats.keys())"
      ],
      "metadata": {
        "colab": {
          "base_uri": "https://localhost:8080/"
        },
        "id": "sBYdzc6yhwFx",
        "outputId": "68e74a4d-78cc-4c90-a0f8-f63ca1ed8a96"
      },
      "execution_count": 73,
      "outputs": [
        {
          "output_type": "stream",
          "name": "stdout",
          "text": [
            "dict_keys(['name', ' age', 'color'])\n"
          ]
        }
      ]
    },
    {
      "cell_type": "code",
      "source": [
        "print(my_cat.items())"
      ],
      "metadata": {
        "colab": {
          "base_uri": "https://localhost:8080/"
        },
        "id": "IfaL9vS8hxAy",
        "outputId": "0612d29b-3361-4df8-c358-c50d7661ab7a"
      },
      "execution_count": 74,
      "outputs": [
        {
          "output_type": "stream",
          "name": "stdout",
          "text": [
            "dict_items([('name', 'Fluffy'), ('age', 2), ('color', 'black')])\n"
          ]
        }
      ]
    },
    {
      "cell_type": "code",
      "source": [
        "print(\"name\" in my_cat)"
      ],
      "metadata": {
        "colab": {
          "base_uri": "https://localhost:8080/"
        },
        "id": "F5o1qNPdhxDh",
        "outputId": "ea9c5c24-09c2-4e46-9527-fae64a58a2f7"
      },
      "execution_count": 75,
      "outputs": [
        {
          "output_type": "stream",
          "name": "stdout",
          "text": [
            "True\n"
          ]
        }
      ]
    },
    {
      "cell_type": "code",
      "source": [
        "print(\"Fluffyness\" in my_cat)"
      ],
      "metadata": {
        "colab": {
          "base_uri": "https://localhost:8080/"
        },
        "id": "S7kT66njhxLL",
        "outputId": "4616d58e-1a9b-4a94-d701-c7d894d0eebe"
      },
      "execution_count": 76,
      "outputs": [
        {
          "output_type": "stream",
          "name": "stdout",
          "text": [
            "False\n"
          ]
        }
      ]
    },
    {
      "cell_type": "markdown",
      "source": [
        "####Updating and Functions Dictionaries"
      ],
      "metadata": {
        "id": "btuWmfBYhxN0"
      }
    },
    {
      "cell_type": "code",
      "source": [
        "print(my_cat)\n",
        "my_cat[\"gender\"] = \"male\"\n",
        "print(my_cat)"
      ],
      "metadata": {
        "colab": {
          "base_uri": "https://localhost:8080/"
        },
        "id": "lgMuRFuKiKpK",
        "outputId": "fa23c23d-c93c-42ef-8ff8-ecf7ff046a76"
      },
      "execution_count": 77,
      "outputs": [
        {
          "output_type": "stream",
          "name": "stdout",
          "text": [
            "{'name': 'Fluffy', 'age': 2, 'color': 'black'}\n",
            "{'name': 'Fluffy', 'age': 2, 'color': 'black', 'gender': 'male'}\n"
          ]
        }
      ]
    },
    {
      "cell_type": "code",
      "source": [
        "my_cat.pop(\"color\")\n",
        "print(my_cat)"
      ],
      "metadata": {
        "colab": {
          "base_uri": "https://localhost:8080/"
        },
        "id": "MUbWkIJciKmU",
        "outputId": "794f47d1-74a7-4683-afb0-7cbb9dd21c4a"
      },
      "execution_count": 78,
      "outputs": [
        {
          "output_type": "stream",
          "name": "stdout",
          "text": [
            "{'name': 'Fluffy', 'age': 2, 'gender': 'male'}\n"
          ]
        }
      ]
    },
    {
      "cell_type": "code",
      "source": [
        "my_cat.popitem()\n",
        "print(my_cat)"
      ],
      "metadata": {
        "colab": {
          "base_uri": "https://localhost:8080/"
        },
        "id": "XDA_zt2GiKdZ",
        "outputId": "f1e4232e-9452-4791-8e33-7ea720c933be"
      },
      "execution_count": 80,
      "outputs": [
        {
          "output_type": "stream",
          "name": "stdout",
          "text": [
            "{'name': 'Fluffy', 'age': 2}\n"
          ]
        }
      ]
    },
    {
      "cell_type": "code",
      "source": [
        "#my_cat.clear()\n",
        "#print(my_cat)"
      ],
      "metadata": {
        "id": "NWxxn3OBiKai"
      },
      "execution_count": null,
      "outputs": []
    },
    {
      "cell_type": "code",
      "source": [
        "#del my_cat\n",
        "#print(my_cat)"
      ],
      "metadata": {
        "id": "j3CeJE1biKYD"
      },
      "execution_count": null,
      "outputs": []
    },
    {
      "cell_type": "markdown",
      "source": [
        "####Nesting Dictionaries"
      ],
      "metadata": {
        "id": "a3HWZuX4iKVl"
      }
    },
    {
      "cell_type": "code",
      "source": [],
      "metadata": {
        "id": "1DHPnyoBiKSe"
      },
      "execution_count": null,
      "outputs": []
    },
    {
      "cell_type": "code",
      "source": [],
      "metadata": {
        "id": "0pja7qdWhxQs"
      },
      "execution_count": null,
      "outputs": []
    },
    {
      "cell_type": "code",
      "source": [],
      "metadata": {
        "id": "xeFGOAeXhxTm"
      },
      "execution_count": null,
      "outputs": []
    },
    {
      "cell_type": "code",
      "source": [],
      "metadata": {
        "id": "typDo7avhxWf"
      },
      "execution_count": null,
      "outputs": []
    },
    {
      "cell_type": "code",
      "source": [],
      "metadata": {
        "id": "l8CI3qZChxZG"
      },
      "execution_count": null,
      "outputs": []
    },
    {
      "cell_type": "code",
      "source": [],
      "metadata": {
        "id": "oVJKmZUihxbn"
      },
      "execution_count": null,
      "outputs": []
    },
    {
      "cell_type": "code",
      "source": [],
      "metadata": {
        "id": "AvhRlwSFhxeS"
      },
      "execution_count": null,
      "outputs": []
    },
    {
      "cell_type": "code",
      "source": [],
      "metadata": {
        "id": "_RDHL6xehxib"
      },
      "execution_count": null,
      "outputs": []
    }
  ]
}