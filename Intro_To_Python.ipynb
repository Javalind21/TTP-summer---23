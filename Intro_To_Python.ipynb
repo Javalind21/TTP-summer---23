{
  "nbformat": 4,
  "nbformat_minor": 0,
  "metadata": {
    "colab": {
      "provenance": [],
      "authorship_tag": "ABX9TyM3FLb/rs+RkWR/RUs8J55+",
      "include_colab_link": true
    },
    "kernelspec": {
      "name": "python3",
      "display_name": "Python 3"
    },
    "language_info": {
      "name": "python"
    }
  },
  "cells": [
    {
      "cell_type": "markdown",
      "metadata": {
        "id": "view-in-github",
        "colab_type": "text"
      },
      "source": [
        "<a href=\"https://colab.research.google.com/github/Javalind21/TTP-summer---23/blob/main/Intro_To_Python.ipynb\" target=\"_parent\"><img src=\"https://colab.research.google.com/assets/colab-badge.svg\" alt=\"Open In Colab\"/></a>"
      ]
    },
    {
      "cell_type": "markdown",
      "source": [
        "#Pathon Basic"
      ],
      "metadata": {
        "id": "IqI2TjVaHc2d"
      }
    },
    {
      "cell_type": "markdown",
      "source": [
        "## String & and the print() function"
      ],
      "metadata": {
        "id": "qMqXAc7tIlUc"
      }
    },
    {
      "cell_type": "code",
      "source": [
        "print(\"Hello World\")\n",
        "# In this line I am using the print() statement or method to print \"Hi there\" to the user"
      ],
      "metadata": {
        "colab": {
          "base_uri": "https://localhost:8080/"
        },
        "id": "JdEcYNtLIkYv",
        "outputId": "1725db06-2fd3-425e-e29c-1f9ed1b70ead"
      },
      "execution_count": null,
      "outputs": [
        {
          "output_type": "stream",
          "name": "stdout",
          "text": [
            "Hello World\n"
          ]
        }
      ]
    },
    {
      "cell_type": "code",
      "source": [
        "print(\" There are two types of slashes: \\\\ and \\ \")\n",
        "#In this line I am using the print() function but due to backslashes being a command only the second backslash is printed from \\\\"
      ],
      "metadata": {
        "colab": {
          "base_uri": "https://localhost:8080/"
        },
        "id": "S6h9Cq7VIkVH",
        "outputId": "45d3082a-8314-4e69-a80f-1cfa19dee100"
      },
      "execution_count": null,
      "outputs": [
        {
          "output_type": "stream",
          "name": "stdout",
          "text": [
            " There are two types of slashes: \\ and \\ \n"
          ]
        }
      ]
    },
    {
      "cell_type": "code",
      "source": [
        "print (\"\"\"\n",
        "        This is a tab line\n",
        "This is a regular line\n",
        "\"\"\")\n",
        "#This line uses the print function() which shows users the difference between a tabbed line and a normal line one key note is the tripe quotes."
      ],
      "metadata": {
        "colab": {
          "base_uri": "https://localhost:8080/"
        },
        "id": "kvkBfYdJIkKb",
        "outputId": "69e6d5a1-e837-41f2-f2cb-96dc0786549e"
      },
      "execution_count": null,
      "outputs": [
        {
          "output_type": "stream",
          "name": "stdout",
          "text": [
            " \n",
            "        This is a tab line\n",
            "This is a regular line\n",
            "\n"
          ]
        }
      ]
    },
    {
      "cell_type": "code",
      "source": [
        "print(\"\\n\\tThis is a tabbed line\\nThis is a regular line\")\n",
        "#In this line we are using the print function now we are using the backslash commands to get the same results as the line above showing how useful it is and easy compared to the latter"
      ],
      "metadata": {
        "colab": {
          "base_uri": "https://localhost:8080/"
        },
        "id": "yFJo7IXbIkHk",
        "outputId": "b610e299-7115-4013-cb0a-6634a78c0e1b"
      },
      "execution_count": null,
      "outputs": [
        {
          "output_type": "stream",
          "name": "stdout",
          "text": [
            "\n",
            "\tThis is a tabbed line\n",
            "This is a regular line\n"
          ]
        }
      ]
    },
    {
      "cell_type": "code",
      "source": [
        "print(\"First name \" + \"Last Name \")\n",
        "#In this line we are using the print() function now we are using concatanation which is the plus sybmol to combine both strings first name and last we need to space the ending quotation to space both strings"
      ],
      "metadata": {
        "colab": {
          "base_uri": "https://localhost:8080/"
        },
        "id": "htrcD3dKIkEs",
        "outputId": "f6104d51-d4c2-45fb-a941-edc777b6db81"
      },
      "execution_count": null,
      "outputs": [
        {
          "output_type": "stream",
          "name": "stdout",
          "text": [
            "First name Last Name \n"
          ]
        }
      ]
    },
    {
      "cell_type": "markdown",
      "source": [
        "##Variables"
      ],
      "metadata": {
        "id": "yo5n3UAhIkB1"
      }
    },
    {
      "cell_type": "code",
      "source": [
        "dogs = 3\n",
        "cats = \" Many Fluffy cats \"\n",
        "#In this line we start using variable an name that will hold a int - whole number, float - deceimal and negetive number, character - one letter, and string - a combination a muiltple character together"
      ],
      "metadata": {
        "id": "6Fc2E3nrIj-9"
      },
      "execution_count": null,
      "outputs": []
    },
    {
      "cell_type": "code",
      "source": [
        "dogs\n",
        "#This line of code will display the value held in dogs onto the screen for the user,which is 3"
      ],
      "metadata": {
        "colab": {
          "base_uri": "https://localhost:8080/"
        },
        "id": "fDCeM9ejIj8Z",
        "outputId": "c4736b33-c86a-4c1d-987f-b63c143b6003"
      },
      "execution_count": null,
      "outputs": [
        {
          "output_type": "execute_result",
          "data": {
            "text/plain": [
              "3"
            ]
          },
          "metadata": {},
          "execution_count": 12
        }
      ]
    },
    {
      "cell_type": "code",
      "source": [
        "cats\n",
        "#This line of code will display the value held in dogs onto the screen for the user,which is Many Fluffy cats"
      ],
      "metadata": {
        "colab": {
          "base_uri": "https://localhost:8080/",
          "height": 35
        },
        "id": "-xyOPTnhIj5v",
        "outputId": "6695550e-077f-44e3-d3ec-b4bdec1561be"
      },
      "execution_count": null,
      "outputs": [
        {
          "output_type": "execute_result",
          "data": {
            "text/plain": [
              "' Many Fluffy cats '"
            ],
            "application/vnd.google.colaboratory.intrinsic+json": {
              "type": "string"
            }
          },
          "metadata": {},
          "execution_count": 13
        }
      ]
    },
    {
      "cell_type": "code",
      "source": [
        "type(dogs)\n",
        "#This line of code we used the type fuction which tells the user what type of data is being held int,float,char,and string"
      ],
      "metadata": {
        "colab": {
          "base_uri": "https://localhost:8080/"
        },
        "id": "fC-VgluiIj3K",
        "outputId": "9f8355d0-edca-44f6-b6ba-2a996c79676b"
      },
      "execution_count": null,
      "outputs": [
        {
          "output_type": "execute_result",
          "data": {
            "text/plain": [
              "int"
            ]
          },
          "metadata": {},
          "execution_count": 14
        }
      ]
    },
    {
      "cell_type": "code",
      "source": [
        "type(cats)\n",
        "#This line of code we used the type fuction which tells the user what type of data is being held int,float,char,and string"
      ],
      "metadata": {
        "colab": {
          "base_uri": "https://localhost:8080/"
        },
        "id": "AzExqm2bIjzg",
        "outputId": "464cf824-2cb3-469b-ba47-8c4a796d866d"
      },
      "execution_count": null,
      "outputs": [
        {
          "output_type": "execute_result",
          "data": {
            "text/plain": [
              "str"
            ]
          },
          "metadata": {},
          "execution_count": 15
        }
      ]
    },
    {
      "cell_type": "code",
      "source": [
        "print(dogs)\n",
        "#In this line we are using the print function to print the value held in dogs, which is 3"
      ],
      "metadata": {
        "colab": {
          "base_uri": "https://localhost:8080/"
        },
        "id": "rwNGMr9WIjwZ",
        "outputId": "0239bc27-1ec4-42a3-d444-2e2187232990"
      },
      "execution_count": null,
      "outputs": [
        {
          "output_type": "stream",
          "name": "stdout",
          "text": [
            "3\n"
          ]
        }
      ]
    },
    {
      "cell_type": "code",
      "source": [
        "hi = \"Hello \"\n",
        "name = \"John \"\n",
        "print(hi + name)\n",
        "#In these lines of code we are making two variables that will are holding two strings with the print fuction and concatenation we can combine both variables with the plus sign +"
      ],
      "metadata": {
        "colab": {
          "base_uri": "https://localhost:8080/"
        },
        "id": "UWFaTcRLMW-L",
        "outputId": "6e9740dd-bc82-4246-cde5-3677a0830e99"
      },
      "execution_count": null,
      "outputs": [
        {
          "output_type": "stream",
          "name": "stdout",
          "text": [
            "Hello John \n"
          ]
        }
      ]
    },
    {
      "cell_type": "code",
      "source": [
        "more_dogs = 5\n",
        "\n",
        "print(dogs + more_dogs )\n",
        "#In these line of code we are making a new vaiable that will hold an int now with concatenation using two interger the print function will add the variables together and show the result of the math onto the screen"
      ],
      "metadata": {
        "colab": {
          "base_uri": "https://localhost:8080/"
        },
        "id": "QxeyX0XJMXLc",
        "outputId": "efe03216-0ca1-4f4f-cc12-bd4d95a3539f"
      },
      "execution_count": null,
      "outputs": [
        {
          "output_type": "stream",
          "name": "stdout",
          "text": [
            "8\n"
          ]
        }
      ]
    },
    {
      "cell_type": "code",
      "source": [
        "price = 19.99\n",
        "amount = 3\n",
        "#In these line of code we are making two variable one have a float data tyoe another having a int data type"
      ],
      "metadata": {
        "id": "5_vEUK0UMXTP"
      },
      "execution_count": null,
      "outputs": []
    },
    {
      "cell_type": "code",
      "source": [
        "print(price * amount)\n",
        "#In this line we are using the print function which with the float and int data type will muiltple the number and show the result of the math on to the screen. Due to one variable have float and the other having int the result will be a float"
      ],
      "metadata": {
        "colab": {
          "base_uri": "https://localhost:8080/"
        },
        "id": "aGJHo1mrMXaU",
        "outputId": "42ff8fe6-a70e-494a-e191-b44305c3f695"
      },
      "execution_count": null,
      "outputs": [
        {
          "output_type": "stream",
          "name": "stdout",
          "text": [
            "59.97\n"
          ]
        }
      ]
    },
    {
      "cell_type": "code",
      "source": [
        "# Variable reassignment\n",
        "dogs = \"New Value\"\n",
        "\n",
        "print(dogs)\n",
        "#In these lines of code we are providing a new data for the variable dogs to hole bfore it held 3 now it holds \"New Value\" when you use the print function the new value will show on screen for the user"
      ],
      "metadata": {
        "colab": {
          "base_uri": "https://localhost:8080/"
        },
        "id": "KAC7_zFMMXjI",
        "outputId": "bf0c56cf-0f7d-473e-ad0c-b7f74c97e424"
      },
      "execution_count": null,
      "outputs": [
        {
          "output_type": "stream",
          "name": "stdout",
          "text": [
            "New Value\n"
          ]
        }
      ]
    },
    {
      "cell_type": "code",
      "source": [
        "cats, dogs, rabbits = 2, 5, \"cute\"\n",
        "\n",
        "print(dogs)\n",
        "#In these lines of code we created three variables using one line cats, dogs, and rabbits are all variables that hold the data in the order they are in, so cats holds 2 dogs hold 5 and rabbits holds \"cute\""
      ],
      "metadata": {
        "colab": {
          "base_uri": "https://localhost:8080/"
        },
        "id": "BZinEJ96NVSc",
        "outputId": "a5076835-6549-45a3-f7c8-e8ed174e743f"
      },
      "execution_count": null,
      "outputs": [
        {
          "output_type": "stream",
          "name": "stdout",
          "text": [
            "5\n"
          ]
        }
      ]
    },
    {
      "cell_type": "markdown",
      "source": [
        "## More Strings"
      ],
      "metadata": {
        "id": "Z7bj5iiFMXmx"
      }
    },
    {
      "cell_type": "markdown",
      "source": [
        "###Indexing"
      ],
      "metadata": {
        "id": "imz9J8dRIh_J"
      }
    },
    {
      "cell_type": "code",
      "source": [
        "greeting = \"Hello World!\"\n",
        "#In this line of code we are making a variable that holds the string data type \"Hello World!\""
      ],
      "metadata": {
        "id": "3kq_pmkDNvD7"
      },
      "execution_count": null,
      "outputs": []
    },
    {
      "cell_type": "code",
      "source": [
        "greeting\n",
        "#In this line of code the variable is being called and the data it is holding will be shown to the user"
      ],
      "metadata": {
        "colab": {
          "base_uri": "https://localhost:8080/",
          "height": 35
        },
        "id": "HBfvDOXgNvIS",
        "outputId": "7df68a6b-8ae1-4880-81e3-76771867154a"
      },
      "execution_count": null,
      "outputs": [
        {
          "output_type": "execute_result",
          "data": {
            "text/plain": [
              "'Hello World!'"
            ],
            "application/vnd.google.colaboratory.intrinsic+json": {
              "type": "string"
            }
          },
          "metadata": {},
          "execution_count": 25
        }
      ]
    },
    {
      "cell_type": "code",
      "source": [
        "print(greeting[4])\n",
        "#In this line of code we are using the print() fuction instead of printing the whole string we want the character at the  4th position using index. Index is the place the character is in if you start from zero and go to 4. We want to know what is at the 4th index using the [] we can put a number in between and ask for any index in this case 4 getting o."
      ],
      "metadata": {
        "colab": {
          "base_uri": "https://localhost:8080/"
        },
        "id": "EycmNZ5RNvML",
        "outputId": "a9a1a663-4e97-4e2b-c6b3-a6209c24aeea"
      },
      "execution_count": null,
      "outputs": [
        {
          "output_type": "stream",
          "name": "stdout",
          "text": [
            "o\n"
          ]
        }
      ]
    },
    {
      "cell_type": "code",
      "source": [
        "# The 3rd, the 5th, the 19th"
      ],
      "metadata": {
        "id": "jIwM7Dc9NvQ5"
      },
      "execution_count": null,
      "outputs": []
    },
    {
      "cell_type": "code",
      "source": [
        "sentence = \"My name is Javaughn Linsay and I work here\"\n",
        "#In this line of code we are creating a variable holding a string to use for indexing"
      ],
      "metadata": {
        "id": "JgVmlpZANvUy"
      },
      "execution_count": null,
      "outputs": []
    },
    {
      "cell_type": "code",
      "source": [
        "print(sentence[3])\n",
        "print(sentence[5])\n",
        "print(sentence[19])\n",
        "#In these lines of code we are ask for the characcter at index 3, 5, and 19"
      ],
      "metadata": {
        "colab": {
          "base_uri": "https://localhost:8080/"
        },
        "id": "qaT8hi8aOQRH",
        "outputId": "5b946c20-8ce0-435e-f015-6e55d1925dbb"
      },
      "execution_count": null,
      "outputs": [
        {
          "output_type": "stream",
          "name": "stdout",
          "text": [
            "n\n",
            "m\n",
            " \n"
          ]
        }
      ]
    },
    {
      "cell_type": "code",
      "source": [
        "len(greeting)\n",
        "#In this line we are using the len() function to get the length of the variable contents"
      ],
      "metadata": {
        "colab": {
          "base_uri": "https://localhost:8080/"
        },
        "id": "L1oLXB_pOQTc",
        "outputId": "dca9b3a4-1760-4701-a6cf-f24b38a73299"
      },
      "execution_count": null,
      "outputs": [
        {
          "output_type": "execute_result",
          "data": {
            "text/plain": [
              "12"
            ]
          },
          "metadata": {},
          "execution_count": 31
        }
      ]
    },
    {
      "cell_type": "code",
      "source": [
        "greeting[11]\n",
        "#In this line we can get the last character of the variable because we ask for the length before so to get the last character you need to go one under"
      ],
      "metadata": {
        "colab": {
          "base_uri": "https://localhost:8080/",
          "height": 35
        },
        "id": "ZDG1Hi7KOQVy",
        "outputId": "d95269d0-e64a-4c05-cbaf-7a329e43b687"
      },
      "execution_count": null,
      "outputs": [
        {
          "output_type": "execute_result",
          "data": {
            "text/plain": [
              "'!'"
            ],
            "application/vnd.google.colaboratory.intrinsic+json": {
              "type": "string"
            }
          },
          "metadata": {},
          "execution_count": 32
        }
      ]
    },
    {
      "cell_type": "code",
      "source": [
        "greeting[-1]\n",
        "#In this line we get the last index but instead of having to ask for the length forst we put -1 between the brackets because no matter the length -1 we always hold the last character because negeatives go from right to left"
      ],
      "metadata": {
        "colab": {
          "base_uri": "https://localhost:8080/",
          "height": 35
        },
        "id": "o3Y8EhjAOQYJ",
        "outputId": "a1ea35ea-ffcc-42b0-f51d-e9d15f2f343c"
      },
      "execution_count": null,
      "outputs": [
        {
          "output_type": "execute_result",
          "data": {
            "text/plain": [
              "'!'"
            ],
            "application/vnd.google.colaboratory.intrinsic+json": {
              "type": "string"
            }
          },
          "metadata": {},
          "execution_count": 33
        }
      ]
    },
    {
      "cell_type": "markdown",
      "source": [
        "### String Formating"
      ],
      "metadata": {
        "id": "gzTAz3PxOQhA"
      }
    },
    {
      "cell_type": "code",
      "source": [
        "price = 59.99\n",
        "#In this we provide a new float data type for price to hold"
      ],
      "metadata": {
        "id": "BkcyOg3vPh5k"
      },
      "execution_count": null,
      "outputs": []
    },
    {
      "cell_type": "code",
      "source": [
        "message = \"Your product cost \" + str(price) + \" dollars\"\n",
        "#In this line we make a new variable that will hold price so we do not need to call price all the time and when price change so will message but do to price being float to would cause an error unless you use str() function to make it a string"
      ],
      "metadata": {
        "id": "2NnMYNmCPh8H"
      },
      "execution_count": null,
      "outputs": []
    },
    {
      "cell_type": "code",
      "source": [
        "message\n",
        "#In this line of code we see that price is now a string instead of a float which can be shown to the user if it was a string"
      ],
      "metadata": {
        "colab": {
          "base_uri": "https://localhost:8080/",
          "height": 35
        },
        "id": "ROfEyd_VPh-v",
        "outputId": "99f7d249-2d4d-477c-b97b-0c9afaab96a8"
      },
      "execution_count": null,
      "outputs": [
        {
          "output_type": "execute_result",
          "data": {
            "text/plain": [
              "'Your product cost 59.99 dollars'"
            ],
            "application/vnd.google.colaboratory.intrinsic+json": {
              "type": "string"
            }
          },
          "metadata": {},
          "execution_count": 37
        }
      ]
    },
    {
      "cell_type": "code",
      "source": [
        "msg = \"The product cost {} dollars\" .format(price)\n",
        "#In the line of code we make a variable that will shown the price as a string but instead of str() function we use .format() function which will but a placeholder for price as a string to replace the curly brackets with price"
      ],
      "metadata": {
        "id": "LhIg5hkjPiBG"
      },
      "execution_count": null,
      "outputs": []
    },
    {
      "cell_type": "code",
      "source": [
        "msg\n",
        "#In this line of code we show the user the string held in the variable msg and see that now the price is a string and the curly brackets are gone"
      ],
      "metadata": {
        "colab": {
          "base_uri": "https://localhost:8080/",
          "height": 35
        },
        "id": "v0fSAoiwPiDr",
        "outputId": "e69f9eda-ab62-4589-f8f3-a6979278f2a0"
      },
      "execution_count": null,
      "outputs": [
        {
          "output_type": "execute_result",
          "data": {
            "text/plain": [
              "'The product cost 59.99 dollars'"
            ],
            "application/vnd.google.colaboratory.intrinsic+json": {
              "type": "string"
            }
          },
          "metadata": {},
          "execution_count": 39
        }
      ]
    },
    {
      "cell_type": "code",
      "source": [
        "amount = 3\n",
        "total = amount * price\n",
        "#In these lines of code we make two variable and int data type and total whoch we muiltple price and amount the result from a float and int will be float making total hold a float data type"
      ],
      "metadata": {
        "id": "Azh1LcVCPiGS"
      },
      "execution_count": null,
      "outputs": []
    },
    {
      "cell_type": "code",
      "source": [
        "msg2 = \"For {} products at the price of {}, the total will be: {} \"\n",
        "#In this line of code we make a in variable have the curly brackets inside meaning we can use .format() function to put any float and interger data type inside"
      ],
      "metadata": {
        "id": "NolM5vTBPiIX"
      },
      "execution_count": null,
      "outputs": []
    },
    {
      "cell_type": "code",
      "source": [
        "print(msg2.format(amount,price,total))\n",
        "#In this line we ise the print() function and .format replacing the three curly brackets in msg2 with amount price and total in that order and shown it to the user"
      ],
      "metadata": {
        "colab": {
          "base_uri": "https://localhost:8080/"
        },
        "id": "kJbRz3K4Pk13",
        "outputId": "609d759c-8a24-416a-a4e8-f2120376f996"
      },
      "execution_count": null,
      "outputs": [
        {
          "output_type": "stream",
          "name": "stdout",
          "text": [
            "For 3 products at the price of 59.99, the total will be: 179.97 \n"
          ]
        }
      ]
    },
    {
      "cell_type": "code",
      "source": [
        "msg3 = \"For {2} products at a price of {0} the total is {1}\"\n",
        "#In this line we make a in variable have the curly brackets inside meaning we can use .format() function to put any float and interger data type inside, but now with numbers inside the brackets the 2 variable will be used then the first and finally the last."
      ],
      "metadata": {
        "id": "GLkyobJFR_FE"
      },
      "execution_count": null,
      "outputs": []
    },
    {
      "cell_type": "code",
      "source": [
        "print(msg3.format(price,total,amount))\n",
        "#In this line we ise the print() function and .format replacing the three curly brackets in msg3 with amount price and total in that order and shown it to the user, but amount will be replace the first bracket then total and then price. Cause of the number used in msg3 defining what variable in the order will replace the brackets"
      ],
      "metadata": {
        "colab": {
          "base_uri": "https://localhost:8080/"
        },
        "id": "_om3F0-fSJky",
        "outputId": "6483fad4-e735-4492-f027-8a9a3108a59a"
      },
      "execution_count": null,
      "outputs": [
        {
          "output_type": "stream",
          "name": "stdout",
          "text": [
            "For 3 products at a price of 59.99 the total is 179.97\n"
          ]
        }
      ]
    },
    {
      "cell_type": "markdown",
      "source": [
        "#### The 'f-String ' Method"
      ],
      "metadata": {
        "id": "xzDxnUDHSJn1"
      }
    },
    {
      "cell_type": "code",
      "source": [
        "price = 19.99\n",
        "items = 3\n",
        "#In these line of code we replace of variable and make a new one the replace variable will hold a new float and the new variable holds an interger"
      ],
      "metadata": {
        "id": "Jmj3ZnqYSJqN"
      },
      "execution_count": 3,
      "outputs": []
    },
    {
      "cell_type": "code",
      "source": [
        "msg = f\"This individual product is {price}\"\n",
        "#In this line change a string variable to now have the new price in which cause an error because it is float and the variabel contain needs to be string but using f-string the price will change to a string for the variable, which makes lines easier for coders"
      ],
      "metadata": {
        "id": "lUGy7KQYTFHK"
      },
      "execution_count": null,
      "outputs": []
    },
    {
      "cell_type": "code",
      "source": [
        "msg\n",
        "#In this line of code we show the data being held in msg and see the price was a float is now a string"
      ],
      "metadata": {
        "colab": {
          "base_uri": "https://localhost:8080/",
          "height": 35
        },
        "id": "AzCC51V8TFJv",
        "outputId": "83876b0c-469e-4171-b725-604cbaa985c4"
      },
      "execution_count": null,
      "outputs": [
        {
          "output_type": "execute_result",
          "data": {
            "text/plain": [
              "'This individual product is 19.99'"
            ],
            "application/vnd.google.colaboratory.intrinsic+json": {
              "type": "string"
            }
          },
          "metadata": {},
          "execution_count": 47
        }
      ]
    },
    {
      "cell_type": "code",
      "source": [
        "msg2 = f\" The total for your purchase is {price * items} \"\n",
        "#In this line of code we replace the contain of a variable now using f-srting to convert the product of price and item and put that as astring to use for the variable"
      ],
      "metadata": {
        "id": "dDFYER7mTFMV"
      },
      "execution_count": 4,
      "outputs": []
    },
    {
      "cell_type": "code",
      "source": [
        "msg2\n",
        "#In this line of code we see that the product of price and items was coverted into a string and can be shown to the user when the variable is called"
      ],
      "metadata": {
        "id": "4uenBSb8TFOt",
        "colab": {
          "base_uri": "https://localhost:8080/",
          "height": 35
        },
        "outputId": "47bebf80-4be3-48b8-9c62-7c6843ad209d"
      },
      "execution_count": 5,
      "outputs": [
        {
          "output_type": "execute_result",
          "data": {
            "text/plain": [
              "' The total for your purchase is 59.97 '"
            ],
            "application/vnd.google.colaboratory.intrinsic+json": {
              "type": "string"
            }
          },
          "metadata": {},
          "execution_count": 5
        }
      ]
    },
    {
      "cell_type": "code",
      "source": [],
      "metadata": {
        "id": "HdlV81oHTFSE"
      },
      "execution_count": null,
      "outputs": []
    },
    {
      "cell_type": "code",
      "source": [],
      "metadata": {
        "id": "uuAz7TXnSJwL"
      },
      "execution_count": null,
      "outputs": []
    },
    {
      "cell_type": "code",
      "source": [],
      "metadata": {
        "id": "LGHjv0tJSJzC"
      },
      "execution_count": null,
      "outputs": []
    }
  ]
}