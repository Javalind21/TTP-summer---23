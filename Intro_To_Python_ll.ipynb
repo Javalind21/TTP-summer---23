{
  "nbformat": 4,
  "nbformat_minor": 0,
  "metadata": {
    "colab": {
      "provenance": [],
      "authorship_tag": "ABX9TyMn6OdS1KCcYK3R0PteylMN",
      "include_colab_link": true
    },
    "kernelspec": {
      "name": "python3",
      "display_name": "Python 3"
    },
    "language_info": {
      "name": "python"
    }
  },
  "cells": [
    {
      "cell_type": "markdown",
      "metadata": {
        "id": "view-in-github",
        "colab_type": "text"
      },
      "source": [
        "<a href=\"https://colab.research.google.com/github/Javalind21/TTP-summer---23/blob/main/Intro_To_Python_ll.ipynb\" target=\"_parent\"><img src=\"https://colab.research.google.com/assets/colab-badge.svg\" alt=\"Open In Colab\"/></a>"
      ]
    },
    {
      "cell_type": "markdown",
      "source": [
        "# Conditionals"
      ],
      "metadata": {
        "id": "SwaPTwo-nx68"
      }
    },
    {
      "cell_type": "markdown",
      "source": [
        "## The \"if\" statement"
      ],
      "metadata": {
        "id": "tK5N7C1dn9z4"
      }
    },
    {
      "cell_type": "code",
      "source": [
        "night = True"
      ],
      "metadata": {
        "id": "2scaW5V6oI4A"
      },
      "execution_count": 1,
      "outputs": []
    },
    {
      "cell_type": "code",
      "source": [
        "type(night)"
      ],
      "metadata": {
        "colab": {
          "base_uri": "https://localhost:8080/"
        },
        "id": "k99kSTXqoI6h",
        "outputId": "0a13e56c-3d0c-4c5e-bf8c-35eed0f762c9"
      },
      "execution_count": 2,
      "outputs": [
        {
          "output_type": "execute_result",
          "data": {
            "text/plain": [
              "bool"
            ]
          },
          "metadata": {},
          "execution_count": 2
        }
      ]
    },
    {
      "cell_type": "code",
      "source": [
        "# if(something) then do something... if -> not then do something else."
      ],
      "metadata": {
        "id": "_DCC0bLu3lS3"
      },
      "execution_count": null,
      "outputs": []
    },
    {
      "cell_type": "code",
      "source": [
        "if night: #== True\n",
        "    print(\"It's night. Sleeping\")\n",
        "else:\n",
        "    print(\"It's day. Being active\")\n",
        "\n",
        "print(\"Out of the if statement\")"
      ],
      "metadata": {
        "colab": {
          "base_uri": "https://localhost:8080/"
        },
        "id": "ys6IHdzUoI84",
        "outputId": "5ab3562f-cbed-478a-a6e3-146f5bd07b65"
      },
      "execution_count": 5,
      "outputs": [
        {
          "output_type": "stream",
          "name": "stdout",
          "text": [
            "It's night. Sleeping\n",
            "Out of the if statement\n"
          ]
        }
      ]
    },
    {
      "cell_type": "code",
      "source": [
        "a, b, c = 100, 50, 20\n",
        "if a > b and b > c:\n",
        "    print(f\"{a} is greater than {c}\")"
      ],
      "metadata": {
        "colab": {
          "base_uri": "https://localhost:8080/"
        },
        "id": "mFtetEu3oI_P",
        "outputId": "96b51f19-792d-47f8-dcff-38f6b175237b"
      },
      "execution_count": 6,
      "outputs": [
        {
          "output_type": "stream",
          "name": "stdout",
          "text": [
            "100 is greater than 20\n"
          ]
        }
      ]
    },
    {
      "cell_type": "code",
      "source": [
        "data = input(\"Do you have car key (yes/no)\")\n",
        "if data.lower() == \"yes\":\n",
        "    print(\"Starting Car\")\n",
        "else:\n",
        "    print(\"Car can not start without keys\")"
      ],
      "metadata": {
        "colab": {
          "base_uri": "https://localhost:8080/"
        },
        "id": "mXCUornRoJCG",
        "outputId": "01ec654c-791e-4a54-fe98-e6b7bb30024c"
      },
      "execution_count": 7,
      "outputs": [
        {
          "output_type": "stream",
          "name": "stdout",
          "text": [
            "Do you have car key (yes/no)no\n",
            "Car can not start without keys\n"
          ]
        }
      ]
    },
    {
      "cell_type": "code",
      "source": [
        "data = input(\"Enter the hour of the day (0 - 23)\")\n",
        "hour = int(data)\n",
        "if hour <= 12:\n",
        "    print(f\"It is {hour} am\")\n",
        "else:\n",
        "    print(f\"It is {hour - 12} pm\")"
      ],
      "metadata": {
        "colab": {
          "base_uri": "https://localhost:8080/"
        },
        "id": "IH0OHQ2VoJEc",
        "outputId": "68a15342-9458-46de-8c7b-8b72d4df9cc9"
      },
      "execution_count": 12,
      "outputs": [
        {
          "output_type": "stream",
          "name": "stdout",
          "text": [
            "Enter the hour of the day (0 - 23)12\n",
            "It is 12 am\n"
          ]
        }
      ]
    },
    {
      "cell_type": "code",
      "source": [
        "pet_store ="
      ],
      "metadata": {
        "id": "gm9zcKtkoJHC"
      },
      "execution_count": null,
      "outputs": []
    },
    {
      "cell_type": "markdown",
      "source": [
        "####More on identation"
      ],
      "metadata": {
        "id": "Z70b3oeyn5Uq"
      }
    },
    {
      "cell_type": "code",
      "source": [
        "if True:\n",
        "    print(\"This is part of the if statment \")\n",
        "print(\"This is part of the if statment \")"
      ],
      "metadata": {
        "colab": {
          "base_uri": "https://localhost:8080/"
        },
        "id": "v6Xbh9wyn5Xe",
        "outputId": "31fa926d-179b-4798-dc54-be4d766570f6"
      },
      "execution_count": 11,
      "outputs": [
        {
          "output_type": "stream",
          "name": "stdout",
          "text": [
            "This is part of the if statment \n",
            "This is part of the if statment \n"
          ]
        }
      ]
    },
    {
      "cell_type": "code",
      "source": [],
      "metadata": {
        "id": "wJx1z1G6n5aF"
      },
      "execution_count": null,
      "outputs": []
    },
    {
      "cell_type": "code",
      "source": [],
      "metadata": {
        "id": "OA6oYEcFn5cc"
      },
      "execution_count": null,
      "outputs": []
    },
    {
      "cell_type": "markdown",
      "source": [
        "####The \"If - elif _ else \" Statement"
      ],
      "metadata": {
        "id": "RU35TxR3n5fB"
      }
    },
    {
      "cell_type": "code",
      "source": [
        "age = int(input(\"What is your age: \"))\n",
        "if age < 18:\n",
        "      print(\"You are a minor\")\n",
        "elif age < 21:\n",
        "      print(\"You are an adult but you can not drink\")\n"
      ],
      "metadata": {
        "colab": {
          "base_uri": "https://localhost:8080/"
        },
        "id": "Lrfx0mwRn5ho",
        "outputId": "219b63b2-555c-4b24-c769-38c946ac117d"
      },
      "execution_count": 14,
      "outputs": [
        {
          "output_type": "stream",
          "name": "stdout",
          "text": [
            "What is your age: 2\n",
            "You are a minor\n"
          ]
        }
      ]
    },
    {
      "cell_type": "code",
      "source": [],
      "metadata": {
        "id": "KJfsc2Ibn5lS"
      },
      "execution_count": null,
      "outputs": []
    },
    {
      "cell_type": "code",
      "source": [],
      "metadata": {
        "id": "yPgtXib76yNs"
      },
      "execution_count": null,
      "outputs": []
    },
    {
      "cell_type": "code",
      "source": [],
      "metadata": {
        "id": "9tED2GvL6yP-"
      },
      "execution_count": null,
      "outputs": []
    },
    {
      "cell_type": "code",
      "source": [],
      "metadata": {
        "id": "lZZ-Xn9-6ySn"
      },
      "execution_count": null,
      "outputs": []
    },
    {
      "cell_type": "markdown",
      "source": [
        "####Shorthand if statement"
      ],
      "metadata": {
        "id": "pDi02wsF6yUq"
      }
    },
    {
      "cell_type": "code",
      "source": [],
      "metadata": {
        "id": "Mh1cE_Pd66uK"
      },
      "execution_count": null,
      "outputs": []
    },
    {
      "cell_type": "code",
      "source": [],
      "metadata": {
        "id": "dJ-OKtZ-66rj"
      },
      "execution_count": null,
      "outputs": []
    },
    {
      "cell_type": "code",
      "source": [],
      "metadata": {
        "id": "rhaiR2K966o7"
      },
      "execution_count": null,
      "outputs": []
    },
    {
      "cell_type": "code",
      "source": [],
      "metadata": {
        "id": "KvKAhXwj66mm"
      },
      "execution_count": null,
      "outputs": []
    },
    {
      "cell_type": "markdown",
      "source": [
        "####The pass keyword"
      ],
      "metadata": {
        "id": "jcNdnlAN66jh"
      }
    },
    {
      "cell_type": "code",
      "source": [
        "has_cat = False\n",
        "if has_cat:\n",
        "    pass\n",
        "else:\n",
        "    print(\"You should get a cat\")"
      ],
      "metadata": {
        "colab": {
          "base_uri": "https://localhost:8080/"
        },
        "id": "ZfhS1xoQ7OK9",
        "outputId": "99bd4cc9-d26b-4ec0-f21e-03a2d7e6ec61"
      },
      "execution_count": 13,
      "outputs": [
        {
          "output_type": "stream",
          "name": "stdout",
          "text": [
            "You should get a cat\n"
          ]
        }
      ]
    },
    {
      "cell_type": "code",
      "source": [
        "has_dog = True\n",
        "\n",
        "if has_dog:\n",
        "      print(\"Awesome\")\n",
        "else:\n",
        "      pass"
      ],
      "metadata": {
        "id": "Mtb2pzXS7OSx"
      },
      "execution_count": null,
      "outputs": []
    },
    {
      "cell_type": "markdown",
      "source": [
        "####Pratice"
      ],
      "metadata": {
        "id": "cCbVs3FM7OVo"
      }
    },
    {
      "cell_type": "code",
      "source": [
        "import random"
      ],
      "metadata": {
        "id": "CVZYA5iJ7OX9"
      },
      "execution_count": 15,
      "outputs": []
    },
    {
      "cell_type": "code",
      "source": [
        "nb = random.randint(0, 100)\n",
        "print(f\"Number {nb} is even \") if nb % 2 == 0 else print(f\"Number {nb} is odd\")"
      ],
      "metadata": {
        "colab": {
          "base_uri": "https://localhost:8080/"
        },
        "id": "ZaaNs1Up9NNk",
        "outputId": "d02c12cd-533a-47bc-a692-1f25b44c46b7"
      },
      "execution_count": 21,
      "outputs": [
        {
          "output_type": "stream",
          "name": "stdout",
          "text": [
            "Number 34 is even \n"
          ]
        }
      ]
    },
    {
      "cell_type": "code",
      "source": [
        "numb = int(input(\"Please put a number between 0 - 100\"))\n",
        "print(f\"Number {numb} is even \") if nb % 2 == 0 else print(f\"Number {numb} is odd\")"
      ],
      "metadata": {
        "colab": {
          "base_uri": "https://localhost:8080/"
        },
        "id": "1IbLU9Oy9NP0",
        "outputId": "47a492ef-2d44-4f89-cb78-cb9389e36a7c"
      },
      "execution_count": 22,
      "outputs": [
        {
          "output_type": "stream",
          "name": "stdout",
          "text": [
            "Please put a number between 0 - 10010\n",
            "Number 10 is even \n"
          ]
        }
      ]
    },
    {
      "cell_type": "code",
      "source": [],
      "metadata": {
        "id": "bS97r2ZB99Q6"
      },
      "execution_count": null,
      "outputs": []
    },
    {
      "cell_type": "code",
      "source": [],
      "metadata": {
        "id": "-aSOB3Xl9NSN"
      },
      "execution_count": null,
      "outputs": []
    },
    {
      "cell_type": "code",
      "source": [],
      "metadata": {
        "id": "tMoLLceT9NXp"
      },
      "execution_count": null,
      "outputs": []
    },
    {
      "cell_type": "code",
      "source": [],
      "metadata": {
        "id": "ucKlg-6I9Nah"
      },
      "execution_count": null,
      "outputs": []
    },
    {
      "cell_type": "code",
      "source": [],
      "metadata": {
        "id": "GJbKn9bb9Nff"
      },
      "execution_count": null,
      "outputs": []
    }
  ]
}