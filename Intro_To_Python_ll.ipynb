{
  "nbformat": 4,
  "nbformat_minor": 0,
  "metadata": {
    "colab": {
      "provenance": [],
      "authorship_tag": "ABX9TyMLRXlyuOMbOZqElBXEWRMF",
      "include_colab_link": true
    },
    "kernelspec": {
      "name": "python3",
      "display_name": "Python 3"
    },
    "language_info": {
      "name": "python"
    }
  },
  "cells": [
    {
      "cell_type": "markdown",
      "metadata": {
        "id": "view-in-github",
        "colab_type": "text"
      },
      "source": [
        "<a href=\"https://colab.research.google.com/github/Javalind21/TTP-summer---23/blob/main/Intro_To_Python_ll.ipynb\" target=\"_parent\"><img src=\"https://colab.research.google.com/assets/colab-badge.svg\" alt=\"Open In Colab\"/></a>"
      ]
    },
    {
      "cell_type": "markdown",
      "source": [
        "# Conditionals"
      ],
      "metadata": {
        "id": "SwaPTwo-nx68"
      }
    },
    {
      "cell_type": "markdown",
      "source": [
        "## The \"if\" statement"
      ],
      "metadata": {
        "id": "tK5N7C1dn9z4"
      }
    },
    {
      "cell_type": "code",
      "source": [
        "night = True"
      ],
      "metadata": {
        "id": "2scaW5V6oI4A"
      },
      "execution_count": null,
      "outputs": []
    },
    {
      "cell_type": "code",
      "source": [
        "type(night)"
      ],
      "metadata": {
        "colab": {
          "base_uri": "https://localhost:8080/"
        },
        "id": "k99kSTXqoI6h",
        "outputId": "0a13e56c-3d0c-4c5e-bf8c-35eed0f762c9"
      },
      "execution_count": null,
      "outputs": [
        {
          "output_type": "execute_result",
          "data": {
            "text/plain": [
              "bool"
            ]
          },
          "metadata": {},
          "execution_count": 2
        }
      ]
    },
    {
      "cell_type": "code",
      "source": [
        "# if(something) then do something... if -> not then do something else."
      ],
      "metadata": {
        "id": "_DCC0bLu3lS3"
      },
      "execution_count": null,
      "outputs": []
    },
    {
      "cell_type": "code",
      "source": [
        "if night: #== True\n",
        "    print(\"It's night. Sleeping\")\n",
        "else:\n",
        "    print(\"It's day. Being active\")\n",
        "\n",
        "print(\"Out of the if statement\")"
      ],
      "metadata": {
        "colab": {
          "base_uri": "https://localhost:8080/"
        },
        "id": "ys6IHdzUoI84",
        "outputId": "5ab3562f-cbed-478a-a6e3-146f5bd07b65"
      },
      "execution_count": null,
      "outputs": [
        {
          "output_type": "stream",
          "name": "stdout",
          "text": [
            "It's night. Sleeping\n",
            "Out of the if statement\n"
          ]
        }
      ]
    },
    {
      "cell_type": "code",
      "source": [
        "a, b, c = 100, 50, 20\n",
        "if a > b and b > c:\n",
        "    print(f\"{a} is greater than {c}\")"
      ],
      "metadata": {
        "colab": {
          "base_uri": "https://localhost:8080/"
        },
        "id": "mFtetEu3oI_P",
        "outputId": "96b51f19-792d-47f8-dcff-38f6b175237b"
      },
      "execution_count": null,
      "outputs": [
        {
          "output_type": "stream",
          "name": "stdout",
          "text": [
            "100 is greater than 20\n"
          ]
        }
      ]
    },
    {
      "cell_type": "code",
      "source": [
        "data = input(\"Do you have car key (yes/no)\")\n",
        "if data.lower() == \"yes\":\n",
        "    print(\"Starting Car\")\n",
        "else:\n",
        "    print(\"Car can not start without keys\")"
      ],
      "metadata": {
        "colab": {
          "base_uri": "https://localhost:8080/"
        },
        "id": "mXCUornRoJCG",
        "outputId": "01ec654c-791e-4a54-fe98-e6b7bb30024c"
      },
      "execution_count": null,
      "outputs": [
        {
          "output_type": "stream",
          "name": "stdout",
          "text": [
            "Do you have car key (yes/no)no\n",
            "Car can not start without keys\n"
          ]
        }
      ]
    },
    {
      "cell_type": "code",
      "source": [
        "data = input(\"Enter the hour of the day (0 - 23)\")\n",
        "hour = int(data)\n",
        "if hour <= 12:\n",
        "    print(f\"It is {hour} am\")\n",
        "else:\n",
        "    print(f\"It is {hour - 12} pm\")"
      ],
      "metadata": {
        "colab": {
          "base_uri": "https://localhost:8080/"
        },
        "id": "IH0OHQ2VoJEc",
        "outputId": "68a15342-9458-46de-8c7b-8b72d4df9cc9"
      },
      "execution_count": null,
      "outputs": [
        {
          "output_type": "stream",
          "name": "stdout",
          "text": [
            "Enter the hour of the day (0 - 23)12\n",
            "It is 12 am\n"
          ]
        }
      ]
    },
    {
      "cell_type": "code",
      "source": [
        "pet_store ="
      ],
      "metadata": {
        "id": "gm9zcKtkoJHC"
      },
      "execution_count": null,
      "outputs": []
    },
    {
      "cell_type": "markdown",
      "source": [
        "####More on identation"
      ],
      "metadata": {
        "id": "Z70b3oeyn5Uq"
      }
    },
    {
      "cell_type": "code",
      "source": [
        "if True:\n",
        "    print(\"This is part of the if statment \")\n",
        "print(\"This is part of the if statment \")"
      ],
      "metadata": {
        "colab": {
          "base_uri": "https://localhost:8080/"
        },
        "id": "v6Xbh9wyn5Xe",
        "outputId": "31fa926d-179b-4798-dc54-be4d766570f6"
      },
      "execution_count": null,
      "outputs": [
        {
          "output_type": "stream",
          "name": "stdout",
          "text": [
            "This is part of the if statment \n",
            "This is part of the if statment \n"
          ]
        }
      ]
    },
    {
      "cell_type": "code",
      "source": [],
      "metadata": {
        "id": "wJx1z1G6n5aF"
      },
      "execution_count": null,
      "outputs": []
    },
    {
      "cell_type": "code",
      "source": [],
      "metadata": {
        "id": "OA6oYEcFn5cc"
      },
      "execution_count": null,
      "outputs": []
    },
    {
      "cell_type": "markdown",
      "source": [
        "####The \"If - elif _ else \" Statement"
      ],
      "metadata": {
        "id": "RU35TxR3n5fB"
      }
    },
    {
      "cell_type": "code",
      "source": [
        "age = int(input(\"What is your age: \"))\n",
        "if age < 18:\n",
        "      print(\"You are a minor\")\n",
        "elif age < 21:\n",
        "      print(\"You are an adult but you can not drink\")\n",
        "elif age < 35:\n",
        "    print(\"You are younger than 35\")\n",
        "else:\n",
        "    print(\"You are an adult\")\n",
        "\n",
        "print(\"If statement finished\")\n"
      ],
      "metadata": {
        "colab": {
          "base_uri": "https://localhost:8080/"
        },
        "id": "Lrfx0mwRn5ho",
        "outputId": "219b63b2-555c-4b24-c769-38c946ac117d"
      },
      "execution_count": null,
      "outputs": [
        {
          "output_type": "stream",
          "name": "stdout",
          "text": [
            "What is your age: 2\n",
            "You are a minor\n"
          ]
        }
      ]
    },
    {
      "cell_type": "markdown",
      "source": [
        "####Shorthand if statement"
      ],
      "metadata": {
        "id": "pDi02wsF6yUq"
      }
    },
    {
      "cell_type": "code",
      "source": [
        "a, b = 50, 20"
      ],
      "metadata": {
        "id": "Mh1cE_Pd66uK"
      },
      "execution_count": null,
      "outputs": []
    },
    {
      "cell_type": "code",
      "source": [
        "if a > b: print(\"a > b\")"
      ],
      "metadata": {
        "id": "dJ-OKtZ-66rj"
      },
      "execution_count": null,
      "outputs": []
    },
    {
      "cell_type": "code",
      "source": [
        "print(\"a > b\") if a > b else print(\"b > a\")"
      ],
      "metadata": {
        "id": "rhaiR2K966o7"
      },
      "execution_count": null,
      "outputs": []
    },
    {
      "cell_type": "code",
      "source": [
        "max = a if a > b else b\n",
        "print(max)"
      ],
      "metadata": {
        "id": "KvKAhXwj66mm"
      },
      "execution_count": null,
      "outputs": []
    },
    {
      "cell_type": "markdown",
      "source": [
        "####The pass keyword"
      ],
      "metadata": {
        "id": "jcNdnlAN66jh"
      }
    },
    {
      "cell_type": "code",
      "source": [
        "has_cat = False\n",
        "if has_cat:\n",
        "    pass\n",
        "else:\n",
        "    print(\"You should get a cat\")"
      ],
      "metadata": {
        "colab": {
          "base_uri": "https://localhost:8080/"
        },
        "id": "ZfhS1xoQ7OK9",
        "outputId": "99bd4cc9-d26b-4ec0-f21e-03a2d7e6ec61"
      },
      "execution_count": null,
      "outputs": [
        {
          "output_type": "stream",
          "name": "stdout",
          "text": [
            "You should get a cat\n"
          ]
        }
      ]
    },
    {
      "cell_type": "code",
      "source": [
        "has_dog = True\n",
        "\n",
        "if has_dog:\n",
        "      print(\"Awesome\")\n",
        "else:\n",
        "      pass"
      ],
      "metadata": {
        "id": "Mtb2pzXS7OSx"
      },
      "execution_count": null,
      "outputs": []
    },
    {
      "cell_type": "markdown",
      "source": [
        "####Pratice"
      ],
      "metadata": {
        "id": "cCbVs3FM7OVo"
      }
    },
    {
      "cell_type": "code",
      "source": [
        "import random"
      ],
      "metadata": {
        "id": "CVZYA5iJ7OX9"
      },
      "execution_count": null,
      "outputs": []
    },
    {
      "cell_type": "code",
      "source": [
        "nb = random.randint(0, 100)\n",
        "print(f\"Number {nb} is even \") if nb % 2 == 0 else print(f\"Number {nb} is odd\")"
      ],
      "metadata": {
        "colab": {
          "base_uri": "https://localhost:8080/"
        },
        "id": "ZaaNs1Up9NNk",
        "outputId": "d02c12cd-533a-47bc-a692-1f25b44c46b7"
      },
      "execution_count": null,
      "outputs": [
        {
          "output_type": "stream",
          "name": "stdout",
          "text": [
            "Number 34 is even \n"
          ]
        }
      ]
    },
    {
      "cell_type": "code",
      "source": [
        "numb = int(input(\"Please put a number between 0 - 100\"))\n",
        "print(f\"Number {numb} is even \") if nb % 2 == 0 else print(f\"Number {numb} is odd\")"
      ],
      "metadata": {
        "colab": {
          "base_uri": "https://localhost:8080/"
        },
        "id": "1IbLU9Oy9NP0",
        "outputId": "47a492ef-2d44-4f89-cb78-cb9389e36a7c"
      },
      "execution_count": null,
      "outputs": [
        {
          "output_type": "stream",
          "name": "stdout",
          "text": [
            "Please put a number between 0 - 10010\n",
            "Number 10 is even \n"
          ]
        }
      ]
    },
    {
      "cell_type": "code",
      "source": [
        "items_grabbed = input(\"Please write all the item you want in the cart space between them: \")\n",
        "items_grabbed = items_grabbed.lower()\n",
        "my_cart = items_grabbed.split(\" \")\n",
        "if \"hammer\" in my_cart:\n",
        "      print(\"It is in your cart\")\n",
        "else:\n",
        "      print(\"It is not in your cart\")\n"
      ],
      "metadata": {
        "colab": {
          "base_uri": "https://localhost:8080/"
        },
        "id": "bS97r2ZB99Q6",
        "outputId": "2ae8494d-7162-45c6-d816-43a4bcb1073b"
      },
      "execution_count": null,
      "outputs": [
        {
          "output_type": "stream",
          "name": "stdout",
          "text": [
            "Please write all the item you want in the cart space between them: Hammer Nail Dog Fog\n",
            "It is in your cart\n"
          ]
        }
      ]
    },
    {
      "cell_type": "code",
      "source": [
        "dir(list)"
      ],
      "metadata": {
        "colab": {
          "base_uri": "https://localhost:8080/"
        },
        "id": "-aSOB3Xl9NSN",
        "outputId": "e3ae7c7a-fd0c-4d3a-b424-b9a9639a1f84"
      },
      "execution_count": null,
      "outputs": [
        {
          "output_type": "execute_result",
          "data": {
            "text/plain": [
              "['__add__',\n",
              " '__class__',\n",
              " '__class_getitem__',\n",
              " '__contains__',\n",
              " '__delattr__',\n",
              " '__delitem__',\n",
              " '__dir__',\n",
              " '__doc__',\n",
              " '__eq__',\n",
              " '__format__',\n",
              " '__ge__',\n",
              " '__getattribute__',\n",
              " '__getitem__',\n",
              " '__gt__',\n",
              " '__hash__',\n",
              " '__iadd__',\n",
              " '__imul__',\n",
              " '__init__',\n",
              " '__init_subclass__',\n",
              " '__iter__',\n",
              " '__le__',\n",
              " '__len__',\n",
              " '__lt__',\n",
              " '__mul__',\n",
              " '__ne__',\n",
              " '__new__',\n",
              " '__reduce__',\n",
              " '__reduce_ex__',\n",
              " '__repr__',\n",
              " '__reversed__',\n",
              " '__rmul__',\n",
              " '__setattr__',\n",
              " '__setitem__',\n",
              " '__sizeof__',\n",
              " '__str__',\n",
              " '__subclasshook__',\n",
              " 'append',\n",
              " 'clear',\n",
              " 'copy',\n",
              " 'count',\n",
              " 'extend',\n",
              " 'index',\n",
              " 'insert',\n",
              " 'pop',\n",
              " 'remove',\n",
              " 'reverse',\n",
              " 'sort']"
            ]
          },
          "metadata": {},
          "execution_count": 30
        }
      ]
    },
    {
      "cell_type": "code",
      "source": [
        "address = input(\"Please enter address: \")\n",
        "reached = input(\"Have you reached destination (yes/no)\")\n",
        "reached = reached.lower()\n",
        "if reached == \"yes\":\n",
        "      print(f\"You have reached {address} \")\n",
        "else:\n",
        "      print(f\"You have not reached {address}\")\n"
      ],
      "metadata": {
        "id": "tMoLLceT9NXp",
        "colab": {
          "base_uri": "https://localhost:8080/"
        },
        "outputId": "f1fd88bc-c847-4062-ce95-3b1336683d60"
      },
      "execution_count": null,
      "outputs": [
        {
          "output_type": "stream",
          "name": "stdout",
          "text": [
            "Please enter address: 123 fake street\n",
            "Have you reached destination (yes/no)no\n",
            "You have not reached 123 fake street\n"
          ]
        }
      ]
    },
    {
      "cell_type": "code",
      "source": [
        "#Confirm that a client has two of the same item in the cart.\n",
        "item = input(\"Please enter all the items you have: \")\n",
        "item = item.lower()\n",
        "items = item.split(\" \")\n",
        "##print(item.count(\"dog\"))\n",
        "checker = input(\"Which item do you want me to check for: \")\n",
        "checker = checker.lower()\n",
        "if item.count(checker) > 1:\n",
        "        print(f\"You have more than one {checker}\")\n",
        "else:\n",
        "        print(f\"You have one or none of {checker}\")\n"
      ],
      "metadata": {
        "id": "ucKlg-6I9Nah",
        "colab": {
          "base_uri": "https://localhost:8080/"
        },
        "outputId": "c2c76b87-9b33-4d03-956a-b3db24a9715e"
      },
      "execution_count": null,
      "outputs": [
        {
          "output_type": "stream",
          "name": "stdout",
          "text": [
            "Please enter all the items you have: Dog Cat Hammer Hammer Pet Boy Girl Toy Toys Toy\n",
            "Which item do you want me to check for: Hammer\n",
            "You have more then one hammer\n"
          ]
        }
      ]
    },
    {
      "cell_type": "code",
      "source": [
        "client_funds, price, client_products = 110, 50, 0\n",
        "if client_funds >= price:\n",
        "    client_products += client_funds // price\n",
        "    client_funds %= price\n",
        "    print(f\"You have {client_products} product(s)\")\n",
        "    print(f\"You have {client_funds}$ left\")\n",
        "    # continue purchase flow\n",
        "else:\n",
        "    print(\"You have insufficient funds\")"
      ],
      "metadata": {
        "id": "GJbKn9bb9Nff",
        "colab": {
          "base_uri": "https://localhost:8080/"
        },
        "outputId": "9c282c0b-9ac7-40df-c2c4-31c4cb47be41"
      },
      "execution_count": 1,
      "outputs": [
        {
          "output_type": "stream",
          "name": "stdout",
          "text": [
            "You have 2 product(s)\n",
            "You have 10$ left\n"
          ]
        }
      ]
    },
    {
      "cell_type": "markdown",
      "source": [
        "##Loops"
      ],
      "metadata": {
        "id": "LU9y2AHvae_I"
      }
    },
    {
      "cell_type": "markdown",
      "source": [
        "###The \"for\" Loops"
      ],
      "metadata": {
        "id": "_HuwA1IBafGK"
      }
    },
    {
      "cell_type": "code",
      "source": [
        "animals = ['cat', 'dog', 'horse']\n",
        "for animal in animals:\n",
        "    print(f\"There is a {animal}\")\n"
      ],
      "metadata": {
        "colab": {
          "base_uri": "https://localhost:8080/"
        },
        "id": "0docRYwjafKj",
        "outputId": "37c9595a-585a-4e65-dab1-4bee167ae030"
      },
      "execution_count": 2,
      "outputs": [
        {
          "output_type": "stream",
          "name": "stdout",
          "text": [
            "There is a cat\n",
            "There is a dog\n",
            "There is a horse\n"
          ]
        }
      ]
    },
    {
      "cell_type": "code",
      "source": [
        "for letter in 'pineapple':\n",
        "    print(letter.upper())"
      ],
      "metadata": {
        "colab": {
          "base_uri": "https://localhost:8080/"
        },
        "id": "_dK0U7ICafN9",
        "outputId": "5d30c71e-2460-48f4-a7e2-40f1ad664f0a"
      },
      "execution_count": 3,
      "outputs": [
        {
          "output_type": "stream",
          "name": "stdout",
          "text": [
            "P\n",
            "I\n",
            "N\n",
            "E\n",
            "A\n",
            "P\n",
            "P\n",
            "L\n",
            "E\n"
          ]
        }
      ]
    },
    {
      "cell_type": "code",
      "source": [],
      "metadata": {
        "id": "Danf3VRgafTM"
      },
      "execution_count": null,
      "outputs": []
    },
    {
      "cell_type": "code",
      "source": [],
      "metadata": {
        "id": "-zZ5mdW3afVg"
      },
      "execution_count": null,
      "outputs": []
    }
  ]
}